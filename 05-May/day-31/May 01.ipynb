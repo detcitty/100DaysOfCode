{
 "cells": [
  {
   "cell_type": "code",
   "execution_count": 2,
   "metadata": {},
   "outputs": [],
   "source": [
    "from flask import Flask"
   ]
  },
  {
   "cell_type": "markdown",
   "metadata": {},
   "source": [
    "https://www.codewars.com/kata/56af1a20509ce5b9b000001e/train/python"
   ]
  },
  {
   "cell_type": "code",
   "execution_count": 3,
   "metadata": {},
   "outputs": [
    {
     "ename": "SyntaxError",
     "evalue": "unexpected EOF while parsing (<ipython-input-3-d55fc86c094d>, line 2)",
     "output_type": "error",
     "traceback": [
      "\u001b[0;36m  File \u001b[0;32m\"<ipython-input-3-d55fc86c094d>\"\u001b[0;36m, line \u001b[0;32m2\u001b[0m\n\u001b[0;31m    # your code\u001b[0m\n\u001b[0m               ^\u001b[0m\n\u001b[0;31mSyntaxError\u001b[0m\u001b[0;31m:\u001b[0m unexpected EOF while parsing\n"
     ]
    }
   ],
   "source": [
    "import re\n",
    "def travel(r, zipcode):\n",
    "    # your code"
   ]
  },
  {
   "cell_type": "code",
   "execution_count": null,
   "metadata": {},
   "outputs": [],
   "source": [
    "ad = (\"123 Main Street St. Louisville OH 43071,432 Main Long Road St. Louisville OH 43071,786 High Street Pollocksville NY 56432,\"\n",
    "  \"54 Holy Grail Street Niagara Town ZP 32908,3200 Main Rd. Bern AE 56210,1 Gordon St. Atlanta RE 13000,\"\n",
    "  \"10 Pussy Cat Rd. Chicago EX 34342,10 Gordon St. Atlanta RE 13000,58 Gordon Road Atlanta RE 13000,\"\n",
    "  \"22 Tokyo Av. Tedmondville SW 43098,674 Paris bd. Abbeville AA 45521,10 Surta Alley Goodtown GG 30654,\"\n",
    "  \"45 Holy Grail Al. Niagara Town ZP 32908,320 Main Al. Bern AE 56210,14 Gordon Park Atlanta RE 13000,\"\n",
    "  \"100 Pussy Cat Rd. Chicago EX 34342,2 Gordon St. Atlanta RE 13000,5 Gordon Road Atlanta RE 13000,\"\n",
    "  \"2200 Tokyo Av. Tedmondville SW 43098,67 Paris St. Abbeville AA 45521,11 Surta Avenue Goodtown GG 30654,\"\n",
    "  \"45 Holy Grail Al. Niagara Town ZP 32918,320 Main Al. Bern AE 56215,14 Gordon Park Atlanta RE 13200,\"\n",
    "  \"100 Pussy Cat Rd. Chicago EX 34345,2 Gordon St. Atlanta RE 13222,5 Gordon Road Atlanta RE 13001,\"\n",
    "  \"2200 Tokyo Av. Tedmondville SW 43198,67 Paris St. Abbeville AA 45522,11 Surta Avenue Goodville GG 30655,\"\n",
    "  \"2222 Tokyo Av. Tedmondville SW 43198,670 Paris St. Abbeville AA 45522,114 Surta Avenue Goodville GG 30655,\"\n",
    "  \"2 Holy Grail Street Niagara Town ZP 32908,3 Main Rd. Bern AE 56210,77 Gordon St. Atlanta RE 13000\")\n",
    "\n",
    "\n",
    "code = (\"OH 43071,NY 56432,ZP 32908,AE 56210,RE 13000,EX 34342,SW 43098,AA 45521,GG 30654,ZP 32908,AE 56215,RE 13200,EX 34345,\"\n",
    "     \"RE 13222,RE 13001,SW 43198,AA 45522,GG 30655,XX 32321,YY 45098\")\n",
    "\n",
    "def testing(actual, expected):\n",
    "    Test.assert_equals(actual, expected)\n",
    "\n",
    "Test.describe(\"travel\")\n",
    "Test.it(\"Basic tests\")\n",
    "testing(travel(ad, \"AA 45522\"), \"AA 45522:Paris St. Abbeville,Paris St. Abbeville/67,670\")\n",
    "testing(travel(ad, \"EX 34342\"), \"EX 34342:Pussy Cat Rd. Chicago,Pussy Cat Rd. Chicago/10,100\")\n",
    "testing(travel(ad, \"EX 34345\"), \"EX 34345:Pussy Cat Rd. Chicago/100\")\n",
    "testing(travel(ad, \"AA 45521\"), \"AA 45521:Paris bd. Abbeville,Paris St. Abbeville/674,67\")\n",
    "testing(travel(ad, \"AE 56215\"), \"AE 56215:Main Al. Bern/320\")\n",
    "\n",
    "\n",
    "\n"
   ]
  }
 ],
 "metadata": {
  "kernelspec": {
   "display_name": "Python 3",
   "language": "python",
   "name": "python3"
  },
  "language_info": {
   "codemirror_mode": {
    "name": "ipython",
    "version": 3
   },
   "file_extension": ".py",
   "mimetype": "text/x-python",
   "name": "python",
   "nbconvert_exporter": "python",
   "pygments_lexer": "ipython3",
   "version": "3.6.8"
  }
 },
 "nbformat": 4,
 "nbformat_minor": 2
}
