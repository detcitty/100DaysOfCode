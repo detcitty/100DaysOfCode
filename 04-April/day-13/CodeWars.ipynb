{
 "cells": [
  {
   "cell_type": "code",
   "execution_count": 1,
   "metadata": {},
   "outputs": [
    {
     "data": {
      "application/javascript": [
       "\n",
       "        setTimeout(function() {\n",
       "            var nbb_cell_id = 1;\n",
       "            var nbb_formatted_code = \"%load_ext nb_black\";\n",
       "            var nbb_cells = Jupyter.notebook.get_cells();\n",
       "            for (var i = 0; i < nbb_cells.length; ++i) {\n",
       "                if (nbb_cells[i].input_prompt_number == nbb_cell_id) {\n",
       "                    nbb_cells[i].set_text(nbb_formatted_code);\n",
       "                    break;\n",
       "                }\n",
       "            }\n",
       "        }, 500);\n",
       "        "
      ],
      "text/plain": [
       "<IPython.core.display.Javascript object>"
      ]
     },
     "metadata": {},
     "output_type": "display_data"
    }
   ],
   "source": [
    "%load_ext nb_black"
   ]
  },
  {
   "cell_type": "markdown",
   "metadata": {},
   "source": [
    "https://www.codewars.com/kata/57c1ab3949324c321600013f/train/python\n"
   ]
  },
  {
   "cell_type": "code",
   "execution_count": 14,
   "metadata": {},
   "outputs": [
    {
     "data": {
      "application/javascript": [
       "\n",
       "        setTimeout(function() {\n",
       "            var nbb_cell_id = 14;\n",
       "            var nbb_formatted_code = \"def to_leet_speak(str):\\n    leet_alpha = {\\n        \\\"A\\\": \\\"@\\\",\\n        \\\"B\\\": \\\"8\\\",\\n        \\\"C\\\": \\\"(\\\",\\n        \\\"D\\\": \\\"D\\\",\\n        \\\"E\\\": \\\"3\\\",\\n        \\\"F\\\": \\\"F\\\",\\n        \\\"G\\\": \\\"6\\\",\\n        \\\"H\\\": \\\"#\\\",\\n        \\\"I\\\": \\\"!\\\",\\n        \\\"J\\\": \\\"J\\\",\\n        \\\"K\\\": \\\"K\\\",\\n        \\\"L\\\": \\\"1\\\",\\n        \\\"M\\\": \\\"M\\\",\\n        \\\"N\\\": \\\"N\\\",\\n        \\\"O\\\": \\\"0\\\",\\n        \\\"P\\\": \\\"P\\\",\\n        \\\"Q\\\": \\\"Q\\\",\\n        \\\"R\\\": \\\"R\\\",\\n        \\\"S\\\": \\\"$\\\",\\n        \\\"T\\\": \\\"7\\\",\\n        \\\"U\\\": \\\"U\\\",\\n        \\\"V\\\": \\\"V\\\",\\n        \\\"W\\\": \\\"W\\\",\\n        \\\"X\\\": \\\"X\\\",\\n        \\\"Y\\\": \\\"Y\\\",\\n        \\\"Z\\\": \\\"2\\\",\\n    }\\n\\n    leet = \\\"\\\"\\n\\n    for s in str:\\n        if s == \\\" \\\":\\n            leet += \\\" \\\"\\n        else:\\n            leet += leet_alpha[s]\\n\\n    return leet\";\n",
       "            var nbb_cells = Jupyter.notebook.get_cells();\n",
       "            for (var i = 0; i < nbb_cells.length; ++i) {\n",
       "                if (nbb_cells[i].input_prompt_number == nbb_cell_id) {\n",
       "                    nbb_cells[i].set_text(nbb_formatted_code);\n",
       "                    break;\n",
       "                }\n",
       "            }\n",
       "        }, 500);\n",
       "        "
      ],
      "text/plain": [
       "<IPython.core.display.Javascript object>"
      ]
     },
     "metadata": {},
     "output_type": "display_data"
    }
   ],
   "source": [
    "def to_leet_speak(str):\n",
    "    leet_alpha = {\n",
    "        \"A\": \"@\",\n",
    "        \"B\": \"8\",\n",
    "        \"C\": \"(\",\n",
    "        \"D\": \"D\",\n",
    "        \"E\": \"3\",\n",
    "        \"F\": \"F\",\n",
    "        \"G\": \"6\",\n",
    "        \"H\": \"#\",\n",
    "        \"I\": \"!\",\n",
    "        \"J\": \"J\",\n",
    "        \"K\": \"K\",\n",
    "        \"L\": \"1\",\n",
    "        \"M\": \"M\",\n",
    "        \"N\": \"N\",\n",
    "        \"O\": \"0\",\n",
    "        \"P\": \"P\",\n",
    "        \"Q\": \"Q\",\n",
    "        \"R\": \"R\",\n",
    "        \"S\": \"$\",\n",
    "        \"T\": \"7\",\n",
    "        \"U\": \"U\",\n",
    "        \"V\": \"V\",\n",
    "        \"W\": \"W\",\n",
    "        \"X\": \"X\",\n",
    "        \"Y\": \"Y\",\n",
    "        \"Z\": \"2\",\n",
    "    }\n",
    "\n",
    "    leet = \"\"\n",
    "\n",
    "    for s in str:\n",
    "        if s == \" \":\n",
    "            leet += \" \"\n",
    "        else:\n",
    "            leet += leet_alpha[s]\n",
    "\n",
    "    return leet"
   ]
  },
  {
   "cell_type": "code",
   "execution_count": 15,
   "metadata": {},
   "outputs": [
    {
     "data": {
      "text/plain": [
       "'(0D3W@R$'"
      ]
     },
     "execution_count": 15,
     "metadata": {},
     "output_type": "execute_result"
    },
    {
     "data": {
      "application/javascript": [
       "\n",
       "        setTimeout(function() {\n",
       "            var nbb_cell_id = 15;\n",
       "            var nbb_formatted_code = \"to_leet_speak(\\\"CODEWARS\\\")\";\n",
       "            var nbb_cells = Jupyter.notebook.get_cells();\n",
       "            for (var i = 0; i < nbb_cells.length; ++i) {\n",
       "                if (nbb_cells[i].input_prompt_number == nbb_cell_id) {\n",
       "                    nbb_cells[i].set_text(nbb_formatted_code);\n",
       "                    break;\n",
       "                }\n",
       "            }\n",
       "        }, 500);\n",
       "        "
      ],
      "text/plain": [
       "<IPython.core.display.Javascript object>"
      ]
     },
     "metadata": {},
     "output_type": "display_data"
    }
   ],
   "source": [
    "to_leet_speak(\"CODEWARS\")"
   ]
  },
  {
   "cell_type": "code",
   "execution_count": 16,
   "metadata": {},
   "outputs": [
    {
     "data": {
      "text/plain": [
       "'#3110 W0R1D'"
      ]
     },
     "execution_count": 16,
     "metadata": {},
     "output_type": "execute_result"
    },
    {
     "data": {
      "application/javascript": [
       "\n",
       "        setTimeout(function() {\n",
       "            var nbb_cell_id = 16;\n",
       "            var nbb_formatted_code = \"to_leet_speak(\\\"HELLO WORLD\\\")\";\n",
       "            var nbb_cells = Jupyter.notebook.get_cells();\n",
       "            for (var i = 0; i < nbb_cells.length; ++i) {\n",
       "                if (nbb_cells[i].input_prompt_number == nbb_cell_id) {\n",
       "                    nbb_cells[i].set_text(nbb_formatted_code);\n",
       "                    break;\n",
       "                }\n",
       "            }\n",
       "        }, 500);\n",
       "        "
      ],
      "text/plain": [
       "<IPython.core.display.Javascript object>"
      ]
     },
     "metadata": {},
     "output_type": "display_data"
    }
   ],
   "source": [
    "to_leet_speak(\"HELLO WORLD\")"
   ]
  },
  {
   "cell_type": "markdown",
   "metadata": {},
   "source": [
    "https://www.codewars.com/kata/57f8ff867a28db569e000c4a/train/python"
   ]
  },
  {
   "cell_type": "code",
   "execution_count": 44,
   "metadata": {},
   "outputs": [
    {
     "data": {
      "application/javascript": [
       "\n",
       "        setTimeout(function() {\n",
       "            var nbb_cell_id = 44;\n",
       "            var nbb_formatted_code = \"def kebabize(string):\\n    # your code here\\n    only_alpha = \\\"\\\".join([i for i in string if i.isalpha()])\\n\\n    final = \\\"\\\"\\n    for i, t in enumerate(only_alpha):\\n        if t.isalpha() == False:\\n            continue\\n        elif t.isupper() and i != 0:\\n            final += \\\"-\\\" + t.lower()\\n        elif t.isupper() and i == 0:\\n            final += t.lower()\\n        else:\\n            final += t\\n    return final\";\n",
       "            var nbb_cells = Jupyter.notebook.get_cells();\n",
       "            for (var i = 0; i < nbb_cells.length; ++i) {\n",
       "                if (nbb_cells[i].input_prompt_number == nbb_cell_id) {\n",
       "                    nbb_cells[i].set_text(nbb_formatted_code);\n",
       "                    break;\n",
       "                }\n",
       "            }\n",
       "        }, 500);\n",
       "        "
      ],
      "text/plain": [
       "<IPython.core.display.Javascript object>"
      ]
     },
     "metadata": {},
     "output_type": "display_data"
    }
   ],
   "source": [
    "def kebabize(string):\n",
    "    # your code here\n",
    "    only_alpha = \"\".join([i for i in string if i.isalpha()])\n",
    "\n",
    "    final = \"\"\n",
    "    for i, t in enumerate(only_alpha):\n",
    "        if t.isalpha() == False:\n",
    "            continue\n",
    "        elif t.isupper() and i != 0:\n",
    "            final += \"-\" + t.lower()\n",
    "        elif t.isupper() and i == 0:\n",
    "            final += t.lower()\n",
    "        else:\n",
    "            final += t\n",
    "    return final"
   ]
  },
  {
   "cell_type": "code",
   "execution_count": 45,
   "metadata": {},
   "outputs": [
    {
     "data": {
      "text/plain": [
       "'my-camel-cased-string'"
      ]
     },
     "execution_count": 45,
     "metadata": {},
     "output_type": "execute_result"
    },
    {
     "data": {
      "application/javascript": [
       "\n",
       "        setTimeout(function() {\n",
       "            var nbb_cell_id = 45;\n",
       "            var nbb_formatted_code = \"kebabize(\\\"myCamelCasedString\\\")\";\n",
       "            var nbb_cells = Jupyter.notebook.get_cells();\n",
       "            for (var i = 0; i < nbb_cells.length; ++i) {\n",
       "                if (nbb_cells[i].input_prompt_number == nbb_cell_id) {\n",
       "                    nbb_cells[i].set_text(nbb_formatted_code);\n",
       "                    break;\n",
       "                }\n",
       "            }\n",
       "        }, 500);\n",
       "        "
      ],
      "text/plain": [
       "<IPython.core.display.Javascript object>"
      ]
     },
     "metadata": {},
     "output_type": "display_data"
    }
   ],
   "source": [
    "kebabize(\"myCamelCasedString\")"
   ]
  },
  {
   "cell_type": "code",
   "execution_count": 46,
   "metadata": {},
   "outputs": [
    {
     "data": {
      "text/plain": [
       "'s-o-s'"
      ]
     },
     "execution_count": 46,
     "metadata": {},
     "output_type": "execute_result"
    },
    {
     "data": {
      "application/javascript": [
       "\n",
       "        setTimeout(function() {\n",
       "            var nbb_cell_id = 46;\n",
       "            var nbb_formatted_code = \"kebabize(\\\"SOS\\\")\";\n",
       "            var nbb_cells = Jupyter.notebook.get_cells();\n",
       "            for (var i = 0; i < nbb_cells.length; ++i) {\n",
       "                if (nbb_cells[i].input_prompt_number == nbb_cell_id) {\n",
       "                    nbb_cells[i].set_text(nbb_formatted_code);\n",
       "                    break;\n",
       "                }\n",
       "            }\n",
       "        }, 500);\n",
       "        "
      ],
      "text/plain": [
       "<IPython.core.display.Javascript object>"
      ]
     },
     "metadata": {},
     "output_type": "display_data"
    }
   ],
   "source": [
    "kebabize(\"SOS\")"
   ]
  },
  {
   "cell_type": "code",
   "execution_count": 47,
   "metadata": {},
   "outputs": [
    {
     "data": {
      "text/plain": [
       "''"
      ]
     },
     "execution_count": 47,
     "metadata": {},
     "output_type": "execute_result"
    },
    {
     "data": {
      "application/javascript": [
       "\n",
       "        setTimeout(function() {\n",
       "            var nbb_cell_id = 47;\n",
       "            var nbb_formatted_code = \"kebabize(\\\"42\\\")\";\n",
       "            var nbb_cells = Jupyter.notebook.get_cells();\n",
       "            for (var i = 0; i < nbb_cells.length; ++i) {\n",
       "                if (nbb_cells[i].input_prompt_number == nbb_cell_id) {\n",
       "                    nbb_cells[i].set_text(nbb_formatted_code);\n",
       "                    break;\n",
       "                }\n",
       "            }\n",
       "        }, 500);\n",
       "        "
      ],
      "text/plain": [
       "<IPython.core.display.Javascript object>"
      ]
     },
     "metadata": {},
     "output_type": "display_data"
    }
   ],
   "source": [
    "kebabize(\"42\")"
   ]
  },
  {
   "cell_type": "markdown",
   "metadata": {},
   "source": [
    "https://www.codewars.com/kata/5ac6932b2f317b96980000ca/train/python"
   ]
  },
  {
   "cell_type": "code",
   "execution_count": 61,
   "metadata": {},
   "outputs": [
    {
     "data": {
      "application/javascript": [
       "\n",
       "        setTimeout(function() {\n",
       "            var nbb_cell_id = 61;\n",
       "            var nbb_formatted_code = \"def min_value(digits):\\n    # your code here\\n    mylist = sorted(list(dict.fromkeys(digits)))\\n    s = \\\"\\\"\\n    for i in mylist:\\n        s += str(i)\\n    return int(s)\";\n",
       "            var nbb_cells = Jupyter.notebook.get_cells();\n",
       "            for (var i = 0; i < nbb_cells.length; ++i) {\n",
       "                if (nbb_cells[i].input_prompt_number == nbb_cell_id) {\n",
       "                    nbb_cells[i].set_text(nbb_formatted_code);\n",
       "                    break;\n",
       "                }\n",
       "            }\n",
       "        }, 500);\n",
       "        "
      ],
      "text/plain": [
       "<IPython.core.display.Javascript object>"
      ]
     },
     "metadata": {},
     "output_type": "display_data"
    }
   ],
   "source": [
    "def min_value(digits):\n",
    "    # your code here\n",
    "    mylist = sorted(list(dict.fromkeys(digits)))\n",
    "    s = \"\"\n",
    "    for i in mylist:\n",
    "        s += str(i)\n",
    "    return int(s)"
   ]
  },
  {
   "cell_type": "code",
   "execution_count": 62,
   "metadata": {},
   "outputs": [
    {
     "data": {
      "text/plain": [
       "148"
      ]
     },
     "execution_count": 62,
     "metadata": {},
     "output_type": "execute_result"
    },
    {
     "data": {
      "application/javascript": [
       "\n",
       "        setTimeout(function() {\n",
       "            var nbb_cell_id = 62;\n",
       "            var nbb_formatted_code = \"min_value([4, 8, 1, 4])\";\n",
       "            var nbb_cells = Jupyter.notebook.get_cells();\n",
       "            for (var i = 0; i < nbb_cells.length; ++i) {\n",
       "                if (nbb_cells[i].input_prompt_number == nbb_cell_id) {\n",
       "                    nbb_cells[i].set_text(nbb_formatted_code);\n",
       "                    break;\n",
       "                }\n",
       "            }\n",
       "        }, 500);\n",
       "        "
      ],
      "text/plain": [
       "<IPython.core.display.Javascript object>"
      ]
     },
     "metadata": {},
     "output_type": "display_data"
    }
   ],
   "source": [
    "min_value([4, 8, 1, 4])"
   ]
  },
  {
   "cell_type": "code",
   "execution_count": null,
   "metadata": {},
   "outputs": [],
   "source": []
  }
 ],
 "metadata": {
  "kernelspec": {
   "display_name": "Python 3",
   "language": "python",
   "name": "python3"
  },
  "language_info": {
   "codemirror_mode": {
    "name": "ipython",
    "version": 3
   },
   "file_extension": ".py",
   "mimetype": "text/x-python",
   "name": "python",
   "nbconvert_exporter": "python",
   "pygments_lexer": "ipython3",
   "version": "3.6.8"
  }
 },
 "nbformat": 4,
 "nbformat_minor": 2
}
