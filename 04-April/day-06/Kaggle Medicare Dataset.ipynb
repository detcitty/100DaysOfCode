{
 "cells": [
  {
   "cell_type": "markdown",
   "metadata": {},
   "source": [
    "Data set taken from Kaggle's [Medicare Skilled Nursing Facilities Aggregate Data](https://www.kaggle.com/cms/medicare-skilled-nursing-facilities-aggregate-data)"
   ]
  },
  {
   "cell_type": "code",
   "execution_count": 1,
   "metadata": {},
   "outputs": [],
   "source": [
    "from zipfile import ZipFile"
   ]
  },
  {
   "cell_type": "code",
   "execution_count": 2,
   "metadata": {},
   "outputs": [],
   "source": [
    "zip_file = \"medicare-skilled-nursing-facilities-aggregate-data.zip\""
   ]
  },
  {
   "cell_type": "code",
   "execution_count": 4,
   "metadata": {},
   "outputs": [
    {
     "name": "stdout",
     "output_type": "stream",
     "text": [
      "File Name                                             Modified             Size\n",
      "medicare-skilled-nursing-facilities-therapy-minutes-aggregate-table-cy-2014.csv 2019-04-06 03:04:18      1454142\n",
      "Medicare_Skilled_Nursing_Facility_PUF_Methodology_2016_Final_9_425 2019-04-06 03:04:18       257063\n",
      "medicare-skilled-nursing-facilities-therapy-minutes-aggregate-table-cy-2013.csv 2019-04-06 03:04:18      1489108\n",
      "Medicare_Skilled_Nursing_Facility_PUF_Methodology_2016_Final_9_225 2019-04-06 03:04:18       257063\n",
      "medicare-skilled-nursing-facilities-therapy-minutes-aggregate-table-cy-2015.csv 2019-04-06 03:04:18      1255419\n",
      "Medicare_Skilled_Nursing_Facility_PUF_Methodology_2016_Final_9.25.2018.pdf 2019-04-06 03:04:18       257063\n",
      "medicare-skilled-nursing-facilities-provider-aggregate-table-cy-2013.csv 2019-04-06 03:04:18      1798779\n",
      "medicare-skilled-nursing-facilities-provider-by-rug-aggregate-table-cy-2013.csv 2019-04-06 03:04:18     12455393\n",
      "socrata_metadata_medicare-skilled-nursing-facilities-therapy-minutes-aggregate-table-cy-2013.json 2019-04-06 03:04:18        13216\n",
      "socrata_metadata_medicare-skilled-nursing-facility-snf-rug-aggregate-report-cy-2015.json 2019-04-06 03:04:18        15660\n",
      "medicare-skilled-nursing-facility-snf-rug-aggregate-report-cy-2015.csv 2019-04-06 03:04:18         6421\n",
      "socrata_metadata_medicare-skilled-nursing-facility-snf-rug-aggregate-report-cy-2014.json 2019-04-06 03:04:18        14552\n",
      "medicare-skilled-nursing-facility-snf-rug-aggregate-report-cy-2014.csv 2019-04-06 03:04:18         6432\n",
      "socrata_metadata_medicare-skilled-nursing-facilities-provider-by-rug-aggregate-table-cy-2013.json 2019-04-06 03:04:18        26234\n",
      "socrata_metadata_medicare-skilled-nursing-facilities-provider-aggregate-table-cy-2013.json 2019-04-06 03:04:18        13886\n",
      "Medicare_Skilled_Nursing_Facility_PUF_Methodology_2016_Final_9_525 2019-04-06 03:04:18       257063\n",
      "Medicare_Skilled_Nursing_Facility_PUF_Methodology_2016_Final_9_125 2019-04-06 03:04:18       257063\n",
      "socrata_metadata_medicare-skilled-nursing-facilities-therapy-minutes-aggregate-table-cy-2015.json 2019-04-06 03:04:18        14657\n",
      "socrata_metadata_medicare-skilled-nursing-facilities-therapy-minutes-aggregate-table-cy-2014.json 2019-04-06 03:04:18        15780\n",
      "Medicare_Skilled_Nursing_Facility_PUF_Methodology_2016_Final_9_625 2019-04-06 03:04:18       257063\n",
      "Medicare_Skilled_Nursing_Facility_PUF_Methodology_2016_Final_9_325 2019-04-06 03:04:18       257063\n",
      "Extracting all the files now...\n",
      "Done!\n"
     ]
    }
   ],
   "source": [
    "with ZipFile(zip_file, 'r') as zip: \n",
    "    # printing all the contents of the zip file \n",
    "    zip.printdir() \n",
    "  \n",
    "    # extracting all the files \n",
    "    print('Extracting all the files now...') \n",
    "    zip.extractall() \n",
    "    print('Done!') "
   ]
  },
  {
   "cell_type": "markdown",
   "metadata": {},
   "source": [
    "Here's a question I looked up:\n",
    "https://stackoverflow.com/questions/3964681/find-all-files-in-a-directory-with-extension-txt-in-python\n",
    "There are multiple files from the Kaggle dataset."
   ]
  },
  {
   "cell_type": "code",
   "execution_count": 14,
   "metadata": {},
   "outputs": [],
   "source": [
    "import glob, os, csv, pandas"
   ]
  },
  {
   "cell_type": "code",
   "execution_count": 7,
   "metadata": {},
   "outputs": [
    {
     "name": "stdout",
     "output_type": "stream",
     "text": [
      "medicare-skilled-nursing-facility-snf-rug-aggregate-report-cy-2014.csv\n",
      "medicare-skilled-nursing-facility-snf-rug-aggregate-report-cy-2015.csv\n",
      "medicare-skilled-nursing-facilities-provider-by-rug-aggregate-table-cy-2013.csv\n",
      "medicare-skilled-nursing-facilities-therapy-minutes-aggregate-table-cy-2013.csv\n",
      "medicare-skilled-nursing-facilities-therapy-minutes-aggregate-table-cy-2014.csv\n",
      "medicare-skilled-nursing-facilities-therapy-minutes-aggregate-table-cy-2015.csv\n",
      "medicare-skilled-nursing-facilities-provider-aggregate-table-cy-2013.csv\n"
     ]
    }
   ],
   "source": [
    "os.chdir(\".\")\n",
    "for file in glob.glob(\"*.csv\"):\n",
    "    print(file)"
   ]
  },
  {
   "cell_type": "code",
   "execution_count": 8,
   "metadata": {},
   "outputs": [
    {
     "name": "stdout",
     "output_type": "stream",
     "text": [
      "socrata_metadata_medicare-skilled-nursing-facilities-therapy-minutes-aggregate-table-cy-2014.json\n",
      "socrata_metadata_medicare-skilled-nursing-facilities-provider-by-rug-aggregate-table-cy-2013.json\n",
      "socrata_metadata_medicare-skilled-nursing-facilities-therapy-minutes-aggregate-table-cy-2015.json\n",
      "socrata_metadata_medicare-skilled-nursing-facility-snf-rug-aggregate-report-cy-2014.json\n",
      "socrata_metadata_medicare-skilled-nursing-facility-snf-rug-aggregate-report-cy-2015.json\n",
      "socrata_metadata_medicare-skilled-nursing-facilities-provider-aggregate-table-cy-2013.json\n",
      "socrata_metadata_medicare-skilled-nursing-facilities-therapy-minutes-aggregate-table-cy-2013.json\n"
     ]
    }
   ],
   "source": [
    "os.chdir(\".\")\n",
    "for file in glob.glob(\"*.json\"):\n",
    "    print(file)"
   ]
  },
  {
   "cell_type": "code",
   "execution_count": 13,
   "metadata": {},
   "outputs": [
    {
     "name": "stdout",
     "output_type": "stream",
     "text": [
      "<_csv.reader object at 0x10ba90048>\n",
      "<_csv.reader object at 0x10ba90208>\n",
      "<_csv.reader object at 0x10ba90048>\n",
      "<_csv.reader object at 0x10ba90208>\n",
      "<_csv.reader object at 0x10ba90048>\n",
      "<_csv.reader object at 0x10ba90208>\n",
      "<_csv.reader object at 0x10ba90048>\n"
     ]
    }
   ],
   "source": [
    "os.chdir(\".\")\n",
    "for file in glob.glob(\"*.csv\"):\n",
    "    with open(file, mode='r') as csv_file:\n",
    "        csv_reader = csv.reader(csv_file, delimiter=',')\n",
    "        print(csv_reader)"
   ]
  },
  {
   "cell_type": "code",
   "execution_count": 20,
   "metadata": {},
   "outputs": [
    {
     "name": "stdout",
     "output_type": "stream",
     "text": [
      "medicare-skilled-nursing-facility-snf-rug-aggregate-report-cy-2014.csv ['RUG', 'RUG Description', 'Total Days', 'Distinct Beneficiaries Per RUG', 'Average SNF Charge Amount Per Day', 'Average SNF Medicare Allowed Amount Per Day', 'Average SNF Medicare Payment Amount Per Day', 'Average SNF Charge Amount Per Beneficiary', 'Average SNF Medicare Allowed Amount Per Beneficiary', 'Average SNF Medicare Payment Amount Per Beneficiary'] 10\n",
      "medicare-skilled-nursing-facility-snf-rug-aggregate-report-cy-2015.csv ['RUG', 'RUG Description', 'Total Days', 'Distinct Beneficiaries Per RUG', 'Average SNF Charge Amount Per Day', 'Average SNF Medicare Allowed Amount Per Day', 'Average SNF Medicare Payment Amount Per Day', 'Average SNF Charge Amount Per Beneficiary', 'Average SNF Medicare Allowed Amount Per Beneficiary', 'Average SNF Medicare Payment Amount Per Beneficiary'] 10\n",
      "medicare-skilled-nursing-facilities-provider-by-rug-aggregate-table-cy-2013.csv ['Provider ID', 'Facility Name', 'Street Address', 'City', 'State', 'Zip Code', 'RUG', 'RUG Description', 'Total Days', 'Distinct Beneficiaries Per Provider/RUG', 'Average SNF Charge Amount Per Day', 'Average SNF Medicare Allowed Amount Per Day', 'Average SNF Medicare Payment Amount Per Day', 'Average SNF Medicare Standard Payment Amount Per Day', 'Average SNF Charge Amount Per Beneficiary', 'Average SNF Medicare Allowed Amount Per Beneficiary', 'Average SNF Medicare Payment Amount Per Beneficiary', 'Average SNF Medicare Standard Payment Amount Per Beneficiary'] 18\n",
      "medicare-skilled-nursing-facilities-therapy-minutes-aggregate-table-cy-2013.csv ['Provider ID', 'Facility Name', 'Street Address', 'City', 'State', 'Zip Code', 'RV Assessment Denominator', 'Percent of RV Assessments within 10 minutes of Threshold', 'RU Assessment Denominator', 'Percent of RU Assessments within 10 minutes of Threshold'] 10\n",
      "medicare-skilled-nursing-facilities-therapy-minutes-aggregate-table-cy-2014.csv ['Provider ID', 'Facility Name', 'Street Address', 'City', 'State', 'Zip Code', 'RV Assessment Denominator', 'Percent of RV Assessments within 10 minutes of Threshold', 'RU Assessment Denominator', 'Percent of RU Assessments within 10 minutes of Threshold'] 10\n",
      "medicare-skilled-nursing-facilities-therapy-minutes-aggregate-table-cy-2015.csv ['Provider ID', 'Facility Name', 'Street Address', 'City', 'State', 'Zip Code', 'RV Assessment Denominator', 'Percent of RV Assessments within 10 minutes of Threshold', 'RU Assessment Denominator', 'Percent of RU Assessments within 10 minutes of Threshold'] 10\n",
      "medicare-skilled-nursing-facilities-provider-aggregate-table-cy-2013.csv ['Provider ID', 'Facility Name', 'Street Address', 'City', 'State', 'Zip Code', 'Total Stays', 'Distinct Beneficiaries Per Provider', 'Average Length of Stay (Days)', 'Total SNF Charge Amount', 'Total SNF Medicare Allowed Amount', 'Total SNF Medicare Payment Amount', 'Total SNF Medicare Standard Payment Amount'] 13\n"
     ]
    }
   ],
   "source": [
    "os.chdir(\".\")\n",
    "for file in glob.glob(\"*.csv\"):\n",
    "    text = pandas.read_csv(file)\n",
    "    print(file, list(text), len(list(text)))"
   ]
  },
  {
   "cell_type": "code",
   "execution_count": null,
   "metadata": {},
   "outputs": [],
   "source": []
  }
 ],
 "metadata": {
  "kernelspec": {
   "display_name": "Python 3",
   "language": "python",
   "name": "python3"
  },
  "language_info": {
   "codemirror_mode": {
    "name": "ipython",
    "version": 3
   },
   "file_extension": ".py",
   "mimetype": "text/x-python",
   "name": "python",
   "nbconvert_exporter": "python",
   "pygments_lexer": "ipython3",
   "version": "3.6.8"
  }
 },
 "nbformat": 4,
 "nbformat_minor": 2
}
