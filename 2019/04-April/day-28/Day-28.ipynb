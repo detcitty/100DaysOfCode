{
 "cells": [
  {
   "cell_type": "code",
   "execution_count": 1,
   "metadata": {},
   "outputs": [],
   "source": [
    "navajo_code = \"http://www.navajonationcouncil.org/Code%20Page.html\""
   ]
  },
  {
   "cell_type": "code",
   "execution_count": 31,
   "metadata": {},
   "outputs": [],
   "source": [
    "import requests\n",
    "import re\n",
    "from bs4 import BeautifulSoup"
   ]
  },
  {
   "cell_type": "code",
   "execution_count": 13,
   "metadata": {},
   "outputs": [
    {
     "data": {
      "text/plain": [
       "<Response [200]>"
      ]
     },
     "execution_count": 13,
     "metadata": {},
     "output_type": "execute_result"
    }
   ],
   "source": [
    "requests.get(navajo_code)"
   ]
  },
  {
   "cell_type": "code",
   "execution_count": 14,
   "metadata": {},
   "outputs": [],
   "source": [
    "response = requests.get(navajo_code).content"
   ]
  },
  {
   "cell_type": "code",
   "execution_count": 15,
   "metadata": {},
   "outputs": [
    {
     "data": {
      "text/plain": [
       "b'<!DOCTYPE html PUBLIC \"-//W3C//DTD XHTML 1.0 Transitional//EN\" \"http://www.w3.org/TR/xhtml1/DTD/xhtml1-transitional.dtd\">\\r\\n<html xmlns=\"http://www.w3.org/1999/xhtml\">\\r\\n<head>\\r\\n<meta http-equiv=\"Content-Type\" content=\"text/html; charset=utf-8\" />\\r\\n<title>Code Page</title>\\r\\n<link href=\"menu/menu.css\" rel=\"stylesheet\" type=\"text/css\" />\\r\\n<link href=\"css/nnCouncil.css\" rel=\"stylesheet\" type=\"text/css\" />\\r\\n<style type=\"text/css\">\\r\\n<!--\\r\\n.style1 {\\r\\n\\tfont-size: x-large;\\r\\n\\tfont-weight: bold;\\r\\n}\\r\\n.style3 {color: #ffffff}\\r\\n.style4 {color: #FFFFFF}\\r\\n-->\\r\\n</style>\\r\\n</head>\\r\\n\\r\\n<body>\\r\\n<DIV align=\"center\">\\r\\n<table cellpadding=\"0\" cellspacing=\"0\" class=\"tableDiv_nnCouncil\">\\r\\n<tr>\\r\\n\\t<td><img src=\"images/bg/24th_nnc_banner.png\" width=\"1100\" height=\"191\" /></td>\\r\\n</tr>\\r\\n<tr>\\r\\n\\t<td style=\"background:url(images/bg/bg_02_optimized.png); background-repeat:repeat-y; height:119px\" valign=\"top\">\\r\\n    <div class=\"onlycssmenu clearfix\" style=\"float:left; margin-left:56px; margin-top:8px\">\\r\\n        <ul class=\"clearfix\">\\r\\n          <li><a href=\"index.html\"><span>Home</span></a></li>\\r\\n          <li><a href=\"speaker.html\"><span>Speaker</span></a></li>\\r\\n          <li><a href=\"council.html\"><span>Council</span></a></li>\\r\\n          <li><a href=\"news.html\"><span>News</span></a></li>\\r\\n          <li><a href=\"legislation.html\"><span>Legislation</span></a></li>\\r\\n          <li><a href=\"committees.html\"><span>Committees</span></a></li>\\r\\n          <li><a href=\"meetings.html\"><span>Meetings</span></a></li>\\r\\n          <li><a href=\"directory.html\"><span>Directory</span></a></li>\\r\\n          <li style=\"width:204px\"></li>\\r\\n        </ul>\\r\\n\\t</div>\\r\\n    <div class=\"clear\"></div>\\r\\n    <div class=\"container\">\\r\\n    \\t<div align=\"left\">\\r\\n    \\t  <p class=\"style1\">&nbsp;</p>\\r\\n    \\t  <p class=\"style1\">&nbsp;&nbsp;&nbsp;&nbsp;&nbsp;&nbsp;&nbsp;&nbsp;&nbsp;&nbsp;&nbsp;&nbsp;Navajo Nation Code </p>\\r\\n    \\t  <p class=\"whiteTxtLink\">(through 12/2009)</p>\\r\\n    \\t  <p class=\"whiteTxtLink\"><a href=\"Navajo Nation Codes/V0010.pdf\" target=\"_blank\" class=\"whiteTxtLink\">Titles 1-5</a></p>\\r\\n    \\t  <p><a href=\"Navajo Nation Codes/V0020.pdf\" target=\"_blank\" class=\"whiteTxtLink\">Titles 5A-12</a></p>\\r\\n    \\t  <p><a href=\"Navajo Nation Codes/V0030.pdf\" target=\"_blank\" class=\"whiteTxtLink\">Titles 13-20</a></p>\\r\\n    \\t  <p><a href=\"Navajo Nation Codes/V0040.pdf\" target=\"_blank\" class=\"whiteTxtLink\">Titles 21-26</a></p>\\r\\n    \\t  <p>&nbsp;</p>\\r\\n    \\t  <p><span class=\"style1\">\\t&nbsp;&nbsp;&nbsp;&nbsp;&nbsp;&nbsp;&nbsp;&nbsp;&nbsp;&nbsp;&nbsp;&nbsp;&nbsp;Amendments</span></p>\\r\\n    \\t  <p> (updates through 12/2014)</p>\\r\\n    \\t  <p><strong>Title 1 Amendments</strong></p>\\r\\n    \\t  <p class=\"whiteTxtLink\"><span class=\"style3\"><a href=\"Navajo Nation Codes/Title 1/CJA-06-10.PDF\" target=\"_blank\" class=\"whiteTxtLink\">CJA-06-10</a></span></p>\\r\\n    \\t  <p class=\"whiteTxtLink\"><span class=\"style4\"><a href=\"Navajo Nation Codes/Title 1/CF-12-10.PDF\" target=\"_blank\" class=\"whiteTxtLink\">CF-12-10</a></span></p>\\r\\n    \\t  <p><strong>Title 2 Amendments</strong></p>\\r\\n    \\t  <p class=\"whiteTxtLink\"><a href=\"Navajo Nation Codes/Title 2/CF-12-10.PDF\" target=\"_blank\" class=\"whiteTxtLink\">CF-12-10</a></p>\\r\\n    \\t  <p class=\"whiteTxtLink\"><a href=\"Navajo Nation Codes/Title 2/CAP-17-10.PDF\" target=\"_blank\" class=\"whiteTxtLink\">CAP-17-10</a></p>\\r\\n    \\t  <p class=\"whiteTxtLink\"><a href=\"Navajo Nation Codes/Title 2/CJN-24-10.PDF\" target=\"_blank\" class=\"whiteTxtLink\">CJN-24-10</a></p>\\r\\n    \\t  <p class=\"whiteTxtLink\"><a href=\"Navajo Nation Codes/Title 2/CO-39-10.pdf\" target=\"_blank\" class=\"whiteTxtLink\">CO-39-10</a></p>\\r\\n    \\t  <p class=\"whiteTxtLink\"><a href=\"Navajo Nation Codes/Title 2/CJA-06-10.PDF\" target=\"_blank\" class=\"whiteTxtLink\">CJA-06-11</a></p>\\r\\n    \\t  <p class=\"whiteTxtLink\"><a href=\"Navajo Nation Codes/Title 2/CAP-10-11.pdf\" target=\"_blank\" class=\"whiteTxtLink\">CAP-10-11</a></p>\\r\\n    \\t  <p class=\"whiteTxtLink\"><a href=\"Navajo Nation Codes/Title 2/CJY-27-11.pdf\" target=\"_blank\" class=\"whiteTxtLink\">CJY-27-11</a></p>\\r\\n    \\t  <p class=\"whiteTxtLink\"><a href=\"Navajo Nation Codes/Title 2/CO-39-11.pdf\" target=\"_blank\" class=\"whiteTxtLink\">CO-39-11</a></p>\\r\\n    \\t  <p class=\"whiteTxtLink\"><a href=\"Navajo Nation Codes/Title 2/CO-45-12.pdf\" target=\"_blank\" class=\"whiteTxtLink\">CO-45-12</a></p>\\r\\n    \\t  <p class=\"whiteTxtLink\"><a href=\"Navajo Nation Codes/Title 2/CAP-12-13.PDF\" target=\"_blank\" class=\"whiteTxtLink\">CAP-12-13</a></p>\\r\\n    \\t  <p class=\"whiteTxtLink\"><a href=\"Navajo Nation Codes/Title 2/CAP-13-13.PDF\" target=\"_blank\" class=\"whiteTxtLink\">CAP-13-13</a></p>\\r\\n    \\t  <p class=\"whiteTxtLink\"><a href=\"Navajo Nation Codes/Title 2/CF-12-10.PDF\" class=\"whiteTxtLink\"></a><a href=\"Navajo Nation Codes/Title 2/CJA-03-13.PDF\" target=\"_blank\" class=\"whiteTxtLink\">CJA-03-13</a></p>\\r\\n    \\t  <p class=\"whiteTxtLink\"><a href=\"Navajo Nation Codes/Title 2/CJY-30-13.pdf\" target=\"_blank\" class=\"whiteTxtLink\">CJY-30-13</a></p>\\r\\n    \\t  <p class=\"whiteTxtLink\"><a href=\"Navajo Nation Codes/Title 2/CO-51-13.pdf\" target=\"_blank\" class=\"whiteTxtLink\">CO-51-13</a></p>\\r\\n    \\t  <p class=\"whiteTxtLink\"><a href=\"Navajo Nation Codes/Title 2/CO-52-13.pdf\" target=\"_blank\" class=\"whiteTxtLink\">CO-52-13</a></p>\\r\\n    \\t  <p class=\"whiteTxtLink\"><a href=\"Navajo Nation Codes/Title 2/CJN-24-10.PDF\" class=\"whiteTxtLink\"></a><a href=\"Navajo Nation Codes/Title 2/CJA-01-14.pdf\" target=\"new\" class=\"whiteTxtLink\">CJA-01-14</a></p>\\r\\n    \\t  <p class=\"whiteTxtLink\"><a href=\"Navajo Nation Codes/Title 2/CO-50-14.pdf\" target=\"_blank\" class=\"whiteTxtLink\">CO-50-14</a></p>\\r\\n    \\t  <p class=\"whiteTxtLink\"><strong>Title 3 Amendments</strong></p>\\r\\n    \\t  <p class=\"whiteTxtLink\"><a href=\"Navajo Nation Codes/Title 3/CD-76-14.pdf\" target=\"_blank\" class=\"whiteTxtLink\">CD-76-14</a></p>\\r\\n    \\t  <p class=\"whiteTxtLink\"><strong>Title 4 Amendments</strong></p>\\r\\n    \\t  <p><a href=\"Navajo Nation Codes/Title 4/CJA-09-12.PDF\" target=\"new\" class=\"whiteTxtLink\">CJA-09-12</a></p>\\r\\n    \\t  <p><strong>Title 5 Amendments</strong></p>\\r\\n    \\t  <p><a href=\"Navajo Nation Codes/Title 5/CAP-21-10.PDF\" target=\"_blank\" class=\"whiteTxtLink\">CAP-21-10</a></p>\\r\\n    \\t  <p><a href=\"Navajo Nation Codes/Title 5/CJY-38-13.pdf\" target=\"_blank\" class=\"whiteTxtLink\">CJY-38-13</a></p>\\r\\n    \\t  <p><a href=\"Navajo Nation Codes/Title 5/CN-56-14.pdf\" target=\"_blank\" class=\"whiteTxtLink\">CN-56-14</a></p>\\r\\n    \\t  <p><a href=\"Navajo Nation Codes/Title 5/CD-63-14.pdf\" target=\"_blank\" class=\"whiteTxtLink\">CD-63-14 (Override of Presidential Veto of CN-56-14)</a></p>\\r\\n    \\t  <p><strong>Title 7 Amendments</strong></p>\\r\\n    \\t  <p><a href=\"Navajo Nation Codes/Title 7/CAP-17-10.PDF\" target=\"_blank\" class=\"whiteTxtLink\">CAP-17-10</a></p>\\r\\n    \\t  <p><a href=\"Navajo Nation Codes/Title 7/CJN-24-10.PDF\" target=\"_blank\" class=\"whiteTxtLink\">CJN-24-10</a></p>\\r\\n    \\t  <p><a href=\"Navajo Nation Codes/Title 7/CJY-29-13.pdf\" target=\"_blank\" class=\"whiteTxtLink\">CJY-29-13</a></p>\\r\\n    \\t  <p><strong>Title 9 Amendments</strong></p>\\r\\n    \\t  <p><a href=\"Navajo Nation Codes/Title 9/CO-38-11.pdf\" target=\"_blank\" class=\"whiteTxtLink\">CO-38-11</a></p>\\r\\n    \\t  <p><a href=\"Navajo Nation Codes/Title 9/CJA-02-12.pdf\" target=\"_blank\" class=\"whiteTxtLink\">CJA-02-12</a></p>\\r\\n    \\t  <p><a href=\"Navajo Nation Codes/Title 9/CMY-30-14.pdf\" target=\"_blank\" class=\"whiteTxtLink\">CMY-30-14</a></p>\\r\\n    \\t  <p><strong>Title 11 Amendments</strong></p>\\r\\n    \\t  <p><a href=\"Navajo Nation Codes/Title 11/CAP-23-10.PDF\" target=\"_blank\" class=\"whiteTxtLink\">CAP-23-10</a></p>\\r\\n    \\t  <p><a href=\"Navajo Nation Codes/Title 11/CD-54-10.PDF\" target=\"_blank\" class=\"whiteTxtLink\">CD-54-10</a></p>\\r\\n    \\t  <p><a href=\"Navajo Nation Codes/Title 11/CAP-12-11.pdf\" target=\"_blank\" class=\"whiteTxtLink\">CAP-12-11</a></p>\\r\\n    \\t  <p><a href=\"Navajo Nation Codes/Title 11/CAP-13-11.pdf\" target=\"_blank\" class=\"whiteTxtLink\">CAP-13-11</a></p>\\r\\n    \\t  <p><a href=\"Navajo Nation Codes/Title 11/CO-41-11.pdf\" target=\"_blank\" class=\"whiteTxtLink\">CO-41-11</a></p>\\r\\n    \\t  <p><a href=\"Navajo Nation Codes/Title 11/CJA-01-12.pdf\" target=\"_blank\" class=\"whiteTxtLink\">CJA-01-12</a></p>\\r\\n    \\t  <p><a href=\"Navajo Nation Codes/Title 11/CJA-06-12.pdf\" target=\"_blank\" class=\"whiteTxtLink\">CJA-06-12</a></p>\\r\\n    \\t  <p><a href=\"Navajo Nation Codes/Title 11/CAP-24-12.PDF\" target=\"_blank\" class=\"whiteTxtLink\">CAP-24-12</a></p>\\r\\n    \\t  <p><a href=\"Navajo Nation Codes/Title 11/CMY-38-12.PDF\" target=\"_blank\" class=\"whiteTxtLink\">CMY-38-12</a></p>\\r\\n    \\t  <p><a href=\"Navajo Nation Codes/Title 11/CO-54-13.pdf\" target=\"_blank\" class=\"whiteTxtLink\">CO-54-13</a></p>\\r\\n    \\t  <p><a href=\"Navajo Nation Codes/Title 11/CO-56-13.pdf\" target=\"_blank\" class=\"whiteTxtLink\">CO-56-13</a></p>\\r\\n    \\t  <p><a href=\"Navajo Nation Codes/Title 11/CO-59-13.pdf\" target=\"_blank\" class=\"whiteTxtLink\">CO-59-13</a></p>\\r\\n    \\t  <p><a href=\"Navajo Nation Codes/Title 11/CJA-02-14.pdf\" target=\"_blank\" class=\"whiteTxtLink\">CJA-02-14</a></p>\\r\\n    \\t  <p><strong>Title 12 Amendments</strong></p>\\r\\n    \\t  <p><a href=\"Navajo Nation Codes/Title 12/CD-43-09.PDF\" target=\"_blank\" class=\"whiteTxtLink\">CD-43-09</a></p>\\r\\n    \\t  <p><a href=\"Navajo Nation Codes/Title 12/BFMY-15-10.pdf\" target=\"_blank\" class=\"whiteTxtLink\">BFMY-15-10</a></p>\\r\\n    \\t  <p><a href=\"Navajo Nation Codes/Title 12/CO-45-10.pdf\" target=\"_blank\" class=\"whiteTxtLink\">CO-45-10</a></p>\\r\\n    \\t  <p><a href=\"Navajo Nation Codes/Title 12/CAU-34-11.pdf\" target=\"_blank\" class=\"whiteTxtLink\">CAU-34-11</a></p>\\r\\n    \\t  <p><a href=\"Navajo Nation Codes/Title 12/CO-44-11.pdf\" target=\"_blank\" class=\"whiteTxtLink\">CO-44-11</a></p>\\r\\n    \\t  <p><a href=\"Navajo Nation Codes/Title 12/CAP-29-12.PDF\" target=\"_blank\" class=\"whiteTxtLink\">CAP-29-12</a></p>\\r\\n    \\t  <p><a href=\"Navajo Nation Codes/Title 12/CJY-41-12.PDF\" target=\"_blank\" class=\"whiteTxtLink\">CJY-41-12</a></p>\\r\\n    \\t  <p><a href=\"Navajo Nation Codes/Title 12/CJY-43-13.pdf\" target=\"_blank\" class=\"whiteTxtLink\">CJY-43-13</a></p>\\r\\n    \\t  <p><a href=\"Navajo Nation Codes/Title 12/CS-48-13.pdf\" target=\"_blank\" class=\"whiteTxtLink\">CS-48-13</a></p>\\r\\n    \\t  <p><strong>Title 13 Amendments</strong></p>\\r\\n    \\t  <p><a href=\"Navajo Nation Codes/Title 13/CO-41-11.pdf\" target=\"_blank\" class=\"whiteTxtLink\">CO-41-11</a></p>\\r\\n    \\t  <p><strong>Title 15 Amendments</strong></p>\\r\\n    \\t  <p><a href=\"Navajo Nation Codes/Title 15/CJA-03-12.pdf\" target=\"_blank\" class=\"whiteTxtLink\">CJA-03-12</a></p>\\r\\n    \\t  <p><a href=\"Navajo Nation Codes/Title 15/CJA-05-13.PDF\" target=\"_blank\" class=\"whiteTxtLink\">CJA-05-13</a></p>\\r\\n    \\t  <p><a href=\"Navajo Nation Codes/Title 15/CJY-35-13.pdf\" target=\"_blank\" class=\"whiteTxtLink\">CJY-35-13</a></p>\\r\\n    \\t  <p><a href=\"Navajo Nation Codes/Title 15/CJY-38-13.pdf\" target=\"_blank\" class=\"whiteTxtLink\">CJY-38-13</a></p>\\r\\n    \\t  <p><a href=\"Navajo Nation Codes/Title 15/CO-48-14.pdf\" target=\"_blank\" class=\"whiteTxtLink\">CO-48-14</a></p>\\r\\n    \\t  <p><strong>Title 16 Amendments</strong></p>\\r\\n    \\t  <p><a href=\"Navajo Nation Codes/Title 16/CO-53-13.pdf\" target=\"_blank\" class=\"whiteTxtLink\">CO-53-13</a></p>\\r\\n    \\t  <p><strong>Title 17 Amendments</strong></p>\\r\\n    \\t  <p><a href=\"Navajo Nation Codes/Title 17/CAP-22-10.PDF\" target=\"_blank\" class=\"whiteTxtLink\">CAP-22-10</a></p>\\r\\n    \\t  <p><a href=\"Navajo Nation Codes/Title 17/CD-56-10.PDF\" target=\"_blank\" class=\"whiteTxtLink\">CD-56-10</a></p>\\r\\n    \\t  <p><a href=\"Navajo Nation Codes/Title 17/CJA-04-12.pdf\" target=\"_blank\" class=\"whiteTxtLink\">CJA-04-12</a></p>\\r\\n    \\t  <p><a href=\"Navajo Nation Codes/Title 17/CAP-28-12.PDF\" target=\"_blank\" class=\"whiteTxtLink\">CAP-28-12</a></p>\\r\\n    \\t  <p><a href=\"Navajo Nation Codes/Title 17/CJY-40-12.PDF\" target=\"_blank\" class=\"whiteTxtLink\">CJY-40-12</a></p>\\r\\n    \\t  <p><a href=\"Navajo Nation Codes/Title 17/CJN-27-13.pdf\" target=\"_blank\" class=\"whiteTxtLink\">CJN-27-13</a></p>\\r\\n    \\t  <p><a href=\"Navajo Nation Codes/Title 17/CJY-29-13.pdf\" target=\"_blank\" class=\"whiteTxtLink\">CJY-29-13</a></p>\\r\\n    \\t  <p><a href=\"Navajo Nation Codes/Title 17/CJN-31-14.pdf\" target=\"_blank\" class=\"whiteTxtLink\">CJN-31-14</a></p>\\r\\n    \\t  <p><a href=\"Navajo Nation Codes/Title 17/CN-52-14.pdf\" target=\"_blank\" class=\"whiteTxtLink\">CN-52-14</a></p>\\r\\n    \\t  <p><strong>Title 18 Amendments</strong></p>\\r\\n    \\t  <p><a href=\"Navajo Nation Codes/Title 18/CAP-20-10.PDF\" target=\"_blank\" class=\"whiteTxtLink\">CAP-20-10</a></p>\\r\\n    \\t  <p><a href=\"Navajo Nation Codes/Title 18/CF-18-12.PDF\" target=\"_blank\" class=\"whiteTxtLink\">CF-18-12</a></p>\\r\\n    \\t  <p><strong>Title 21 Amendments</strong></p>\\r\\n    \\t  <p><a href=\"Navajo Nation Codes/Title 21/CAP-16-10.PDF\" target=\"_blank\" class=\"whiteTxtLink\">CAP-16-10</a></p>\\r\\n    \\t  <p><a href=\"Navajo Nation Codes/Title 21/CAP-18-10.PDF\" target=\"_blank\" class=\"whiteTxtLink\">CAP-18-10</a></p>\\r\\n    \\t  <p><a href=\"Navajo Nation Codes/Title 21/CO-51-13.pdf\" target=\"_blank\" class=\"whiteTxtLink\">CO-51-13</a></p>\\r\\n    \\t  <p><strong>Title 22 Amendments</strong></p>\\r\\n    \\t  <p><a href=\"Navajo Nation Codes/Title 22/CAP-27-12.PDF\" target=\"_blank\" class=\"whiteTxtLink\">CAP-27-12</a></p>\\r\\n    \\t  <p><strong>Title 24 Amendments</strong></p>\\r\\n    \\t  <p><a href=\"Navajo Nation Codes/Title 24/CJY-31-10.pdf\" target=\"_blank\" class=\"whiteTxtLink\">CJY-31-10</a></p>\\r\\n    \\t  <p><a href=\"Navajo Nation Codes/Title 24/CO-40-10.pdf\" target=\"_blank\" class=\"whiteTxtLink\">CO-40-10</a></p>\\r\\n    \\t  <p><a href=\"Navajo Nation Codes/Title 24/CO-46-12.pdf\" target=\"_blank\" class=\"whiteTxtLink\">CO-46-12</a></p>\\r\\n    \\t  <p><a href=\"Navajo Nation Codes/Title 24/CN-54-14.pdf\" target=\"_blank\" class=\"whiteTxtLink\">CN-54-14</a></p>\\r\\n    \\t  <p><strong>Title 26 Amendments</strong></p>\\r\\n    \\t  <p><a href=\"Navajo Nation Codes/Title 26/CN-50-10.pdf\" target=\"_blank\" class=\"whiteTxtLink\">CN-50-10</a></p>\\r\\n    \\t</div>\\r\\n    </div>    </td>\\r\\n</tr>\\r\\n<tr>\\r\\n\\t<td style=\"background:url(images/bg/bg_03_optimized.png); background-repeat:no-repeat; height:90px\"></td>\\r\\n</tr>\\r\\n</table>\\r\\n</DIV>\\r\\n</body>\\r\\n</html>\\r\\n'"
      ]
     },
     "execution_count": 15,
     "metadata": {},
     "output_type": "execute_result"
    }
   ],
   "source": [
    "response"
   ]
  },
  {
   "cell_type": "code",
   "execution_count": 16,
   "metadata": {},
   "outputs": [],
   "source": [
    "soup = BeautifulSoup(response, 'html.parser')"
   ]
  },
  {
   "cell_type": "code",
   "execution_count": 17,
   "metadata": {},
   "outputs": [
    {
     "data": {
      "text/plain": [
       "<head>\n",
       "<meta content=\"text/html; charset=utf-8\" http-equiv=\"Content-Type\"/>\n",
       "<title>Code Page</title>\n",
       "<link href=\"menu/menu.css\" rel=\"stylesheet\" type=\"text/css\"/>\n",
       "<link href=\"css/nnCouncil.css\" rel=\"stylesheet\" type=\"text/css\"/>\n",
       "<style type=\"text/css\">\n",
       "<!--\n",
       ".style1 {\n",
       "\tfont-size: x-large;\n",
       "\tfont-weight: bold;\n",
       "}\n",
       ".style3 {color: #ffffff}\n",
       ".style4 {color: #FFFFFF}\n",
       "-->\n",
       "</style>\n",
       "</head>"
      ]
     },
     "execution_count": 17,
     "metadata": {},
     "output_type": "execute_result"
    }
   ],
   "source": [
    "soup.head"
   ]
  },
  {
   "cell_type": "code",
   "execution_count": 18,
   "metadata": {},
   "outputs": [
    {
     "data": {
      "text/plain": [
       "<title>Code Page</title>"
      ]
     },
     "execution_count": 18,
     "metadata": {},
     "output_type": "execute_result"
    }
   ],
   "source": [
    "soup.title"
   ]
  },
  {
   "cell_type": "code",
   "execution_count": 23,
   "metadata": {},
   "outputs": [
    {
     "data": {
      "text/plain": [
       "<body>\n",
       "<div align=\"center\">\n",
       "<table cellpadding=\"0\" cellspacing=\"0\" class=\"tableDiv_nnCouncil\">\n",
       "<tr>\n",
       "<td><img height=\"191\" src=\"images/bg/24th_nnc_banner.png\" width=\"1100\"/></td>\n",
       "</tr>\n",
       "<tr>\n",
       "<td style=\"background:url(images/bg/bg_02_optimized.png); background-repeat:repeat-y; height:119px\" valign=\"top\">\n",
       "<div class=\"onlycssmenu clearfix\" style=\"float:left; margin-left:56px; margin-top:8px\">\n",
       "<ul class=\"clearfix\">\n",
       "<li><a href=\"index.html\"><span>Home</span></a></li>\n",
       "<li><a href=\"speaker.html\"><span>Speaker</span></a></li>\n",
       "<li><a href=\"council.html\"><span>Council</span></a></li>\n",
       "<li><a href=\"news.html\"><span>News</span></a></li>\n",
       "<li><a href=\"legislation.html\"><span>Legislation</span></a></li>\n",
       "<li><a href=\"committees.html\"><span>Committees</span></a></li>\n",
       "<li><a href=\"meetings.html\"><span>Meetings</span></a></li>\n",
       "<li><a href=\"directory.html\"><span>Directory</span></a></li>\n",
       "<li style=\"width:204px\"></li>\n",
       "</ul>\n",
       "</div>\n",
       "<div class=\"clear\"></div>\n",
       "<div class=\"container\">\n",
       "<div align=\"left\">\n",
       "<p class=\"style1\"> </p>\n",
       "<p class=\"style1\">            Navajo Nation Code </p>\n",
       "<p class=\"whiteTxtLink\">(through 12/2009)</p>\n",
       "<p class=\"whiteTxtLink\"><a class=\"whiteTxtLink\" href=\"Navajo Nation Codes/V0010.pdf\" target=\"_blank\">Titles 1-5</a></p>\n",
       "<p><a class=\"whiteTxtLink\" href=\"Navajo Nation Codes/V0020.pdf\" target=\"_blank\">Titles 5A-12</a></p>\n",
       "<p><a class=\"whiteTxtLink\" href=\"Navajo Nation Codes/V0030.pdf\" target=\"_blank\">Titles 13-20</a></p>\n",
       "<p><a class=\"whiteTxtLink\" href=\"Navajo Nation Codes/V0040.pdf\" target=\"_blank\">Titles 21-26</a></p>\n",
       "<p> </p>\n",
       "<p><span class=\"style1\">\t             Amendments</span></p>\n",
       "<p> (updates through 12/2014)</p>\n",
       "<p><strong>Title 1 Amendments</strong></p>\n",
       "<p class=\"whiteTxtLink\"><span class=\"style3\"><a class=\"whiteTxtLink\" href=\"Navajo Nation Codes/Title 1/CJA-06-10.PDF\" target=\"_blank\">CJA-06-10</a></span></p>\n",
       "<p class=\"whiteTxtLink\"><span class=\"style4\"><a class=\"whiteTxtLink\" href=\"Navajo Nation Codes/Title 1/CF-12-10.PDF\" target=\"_blank\">CF-12-10</a></span></p>\n",
       "<p><strong>Title 2 Amendments</strong></p>\n",
       "<p class=\"whiteTxtLink\"><a class=\"whiteTxtLink\" href=\"Navajo Nation Codes/Title 2/CF-12-10.PDF\" target=\"_blank\">CF-12-10</a></p>\n",
       "<p class=\"whiteTxtLink\"><a class=\"whiteTxtLink\" href=\"Navajo Nation Codes/Title 2/CAP-17-10.PDF\" target=\"_blank\">CAP-17-10</a></p>\n",
       "<p class=\"whiteTxtLink\"><a class=\"whiteTxtLink\" href=\"Navajo Nation Codes/Title 2/CJN-24-10.PDF\" target=\"_blank\">CJN-24-10</a></p>\n",
       "<p class=\"whiteTxtLink\"><a class=\"whiteTxtLink\" href=\"Navajo Nation Codes/Title 2/CO-39-10.pdf\" target=\"_blank\">CO-39-10</a></p>\n",
       "<p class=\"whiteTxtLink\"><a class=\"whiteTxtLink\" href=\"Navajo Nation Codes/Title 2/CJA-06-10.PDF\" target=\"_blank\">CJA-06-11</a></p>\n",
       "<p class=\"whiteTxtLink\"><a class=\"whiteTxtLink\" href=\"Navajo Nation Codes/Title 2/CAP-10-11.pdf\" target=\"_blank\">CAP-10-11</a></p>\n",
       "<p class=\"whiteTxtLink\"><a class=\"whiteTxtLink\" href=\"Navajo Nation Codes/Title 2/CJY-27-11.pdf\" target=\"_blank\">CJY-27-11</a></p>\n",
       "<p class=\"whiteTxtLink\"><a class=\"whiteTxtLink\" href=\"Navajo Nation Codes/Title 2/CO-39-11.pdf\" target=\"_blank\">CO-39-11</a></p>\n",
       "<p class=\"whiteTxtLink\"><a class=\"whiteTxtLink\" href=\"Navajo Nation Codes/Title 2/CO-45-12.pdf\" target=\"_blank\">CO-45-12</a></p>\n",
       "<p class=\"whiteTxtLink\"><a class=\"whiteTxtLink\" href=\"Navajo Nation Codes/Title 2/CAP-12-13.PDF\" target=\"_blank\">CAP-12-13</a></p>\n",
       "<p class=\"whiteTxtLink\"><a class=\"whiteTxtLink\" href=\"Navajo Nation Codes/Title 2/CAP-13-13.PDF\" target=\"_blank\">CAP-13-13</a></p>\n",
       "<p class=\"whiteTxtLink\"><a class=\"whiteTxtLink\" href=\"Navajo Nation Codes/Title 2/CF-12-10.PDF\"></a><a class=\"whiteTxtLink\" href=\"Navajo Nation Codes/Title 2/CJA-03-13.PDF\" target=\"_blank\">CJA-03-13</a></p>\n",
       "<p class=\"whiteTxtLink\"><a class=\"whiteTxtLink\" href=\"Navajo Nation Codes/Title 2/CJY-30-13.pdf\" target=\"_blank\">CJY-30-13</a></p>\n",
       "<p class=\"whiteTxtLink\"><a class=\"whiteTxtLink\" href=\"Navajo Nation Codes/Title 2/CO-51-13.pdf\" target=\"_blank\">CO-51-13</a></p>\n",
       "<p class=\"whiteTxtLink\"><a class=\"whiteTxtLink\" href=\"Navajo Nation Codes/Title 2/CO-52-13.pdf\" target=\"_blank\">CO-52-13</a></p>\n",
       "<p class=\"whiteTxtLink\"><a class=\"whiteTxtLink\" href=\"Navajo Nation Codes/Title 2/CJN-24-10.PDF\"></a><a class=\"whiteTxtLink\" href=\"Navajo Nation Codes/Title 2/CJA-01-14.pdf\" target=\"new\">CJA-01-14</a></p>\n",
       "<p class=\"whiteTxtLink\"><a class=\"whiteTxtLink\" href=\"Navajo Nation Codes/Title 2/CO-50-14.pdf\" target=\"_blank\">CO-50-14</a></p>\n",
       "<p class=\"whiteTxtLink\"><strong>Title 3 Amendments</strong></p>\n",
       "<p class=\"whiteTxtLink\"><a class=\"whiteTxtLink\" href=\"Navajo Nation Codes/Title 3/CD-76-14.pdf\" target=\"_blank\">CD-76-14</a></p>\n",
       "<p class=\"whiteTxtLink\"><strong>Title 4 Amendments</strong></p>\n",
       "<p><a class=\"whiteTxtLink\" href=\"Navajo Nation Codes/Title 4/CJA-09-12.PDF\" target=\"new\">CJA-09-12</a></p>\n",
       "<p><strong>Title 5 Amendments</strong></p>\n",
       "<p><a class=\"whiteTxtLink\" href=\"Navajo Nation Codes/Title 5/CAP-21-10.PDF\" target=\"_blank\">CAP-21-10</a></p>\n",
       "<p><a class=\"whiteTxtLink\" href=\"Navajo Nation Codes/Title 5/CJY-38-13.pdf\" target=\"_blank\">CJY-38-13</a></p>\n",
       "<p><a class=\"whiteTxtLink\" href=\"Navajo Nation Codes/Title 5/CN-56-14.pdf\" target=\"_blank\">CN-56-14</a></p>\n",
       "<p><a class=\"whiteTxtLink\" href=\"Navajo Nation Codes/Title 5/CD-63-14.pdf\" target=\"_blank\">CD-63-14 (Override of Presidential Veto of CN-56-14)</a></p>\n",
       "<p><strong>Title 7 Amendments</strong></p>\n",
       "<p><a class=\"whiteTxtLink\" href=\"Navajo Nation Codes/Title 7/CAP-17-10.PDF\" target=\"_blank\">CAP-17-10</a></p>\n",
       "<p><a class=\"whiteTxtLink\" href=\"Navajo Nation Codes/Title 7/CJN-24-10.PDF\" target=\"_blank\">CJN-24-10</a></p>\n",
       "<p><a class=\"whiteTxtLink\" href=\"Navajo Nation Codes/Title 7/CJY-29-13.pdf\" target=\"_blank\">CJY-29-13</a></p>\n",
       "<p><strong>Title 9 Amendments</strong></p>\n",
       "<p><a class=\"whiteTxtLink\" href=\"Navajo Nation Codes/Title 9/CO-38-11.pdf\" target=\"_blank\">CO-38-11</a></p>\n",
       "<p><a class=\"whiteTxtLink\" href=\"Navajo Nation Codes/Title 9/CJA-02-12.pdf\" target=\"_blank\">CJA-02-12</a></p>\n",
       "<p><a class=\"whiteTxtLink\" href=\"Navajo Nation Codes/Title 9/CMY-30-14.pdf\" target=\"_blank\">CMY-30-14</a></p>\n",
       "<p><strong>Title 11 Amendments</strong></p>\n",
       "<p><a class=\"whiteTxtLink\" href=\"Navajo Nation Codes/Title 11/CAP-23-10.PDF\" target=\"_blank\">CAP-23-10</a></p>\n",
       "<p><a class=\"whiteTxtLink\" href=\"Navajo Nation Codes/Title 11/CD-54-10.PDF\" target=\"_blank\">CD-54-10</a></p>\n",
       "<p><a class=\"whiteTxtLink\" href=\"Navajo Nation Codes/Title 11/CAP-12-11.pdf\" target=\"_blank\">CAP-12-11</a></p>\n",
       "<p><a class=\"whiteTxtLink\" href=\"Navajo Nation Codes/Title 11/CAP-13-11.pdf\" target=\"_blank\">CAP-13-11</a></p>\n",
       "<p><a class=\"whiteTxtLink\" href=\"Navajo Nation Codes/Title 11/CO-41-11.pdf\" target=\"_blank\">CO-41-11</a></p>\n",
       "<p><a class=\"whiteTxtLink\" href=\"Navajo Nation Codes/Title 11/CJA-01-12.pdf\" target=\"_blank\">CJA-01-12</a></p>\n",
       "<p><a class=\"whiteTxtLink\" href=\"Navajo Nation Codes/Title 11/CJA-06-12.pdf\" target=\"_blank\">CJA-06-12</a></p>\n",
       "<p><a class=\"whiteTxtLink\" href=\"Navajo Nation Codes/Title 11/CAP-24-12.PDF\" target=\"_blank\">CAP-24-12</a></p>\n",
       "<p><a class=\"whiteTxtLink\" href=\"Navajo Nation Codes/Title 11/CMY-38-12.PDF\" target=\"_blank\">CMY-38-12</a></p>\n",
       "<p><a class=\"whiteTxtLink\" href=\"Navajo Nation Codes/Title 11/CO-54-13.pdf\" target=\"_blank\">CO-54-13</a></p>\n",
       "<p><a class=\"whiteTxtLink\" href=\"Navajo Nation Codes/Title 11/CO-56-13.pdf\" target=\"_blank\">CO-56-13</a></p>\n",
       "<p><a class=\"whiteTxtLink\" href=\"Navajo Nation Codes/Title 11/CO-59-13.pdf\" target=\"_blank\">CO-59-13</a></p>\n",
       "<p><a class=\"whiteTxtLink\" href=\"Navajo Nation Codes/Title 11/CJA-02-14.pdf\" target=\"_blank\">CJA-02-14</a></p>\n",
       "<p><strong>Title 12 Amendments</strong></p>\n",
       "<p><a class=\"whiteTxtLink\" href=\"Navajo Nation Codes/Title 12/CD-43-09.PDF\" target=\"_blank\">CD-43-09</a></p>\n",
       "<p><a class=\"whiteTxtLink\" href=\"Navajo Nation Codes/Title 12/BFMY-15-10.pdf\" target=\"_blank\">BFMY-15-10</a></p>\n",
       "<p><a class=\"whiteTxtLink\" href=\"Navajo Nation Codes/Title 12/CO-45-10.pdf\" target=\"_blank\">CO-45-10</a></p>\n",
       "<p><a class=\"whiteTxtLink\" href=\"Navajo Nation Codes/Title 12/CAU-34-11.pdf\" target=\"_blank\">CAU-34-11</a></p>\n",
       "<p><a class=\"whiteTxtLink\" href=\"Navajo Nation Codes/Title 12/CO-44-11.pdf\" target=\"_blank\">CO-44-11</a></p>\n",
       "<p><a class=\"whiteTxtLink\" href=\"Navajo Nation Codes/Title 12/CAP-29-12.PDF\" target=\"_blank\">CAP-29-12</a></p>\n",
       "<p><a class=\"whiteTxtLink\" href=\"Navajo Nation Codes/Title 12/CJY-41-12.PDF\" target=\"_blank\">CJY-41-12</a></p>\n",
       "<p><a class=\"whiteTxtLink\" href=\"Navajo Nation Codes/Title 12/CJY-43-13.pdf\" target=\"_blank\">CJY-43-13</a></p>\n",
       "<p><a class=\"whiteTxtLink\" href=\"Navajo Nation Codes/Title 12/CS-48-13.pdf\" target=\"_blank\">CS-48-13</a></p>\n",
       "<p><strong>Title 13 Amendments</strong></p>\n",
       "<p><a class=\"whiteTxtLink\" href=\"Navajo Nation Codes/Title 13/CO-41-11.pdf\" target=\"_blank\">CO-41-11</a></p>\n",
       "<p><strong>Title 15 Amendments</strong></p>\n",
       "<p><a class=\"whiteTxtLink\" href=\"Navajo Nation Codes/Title 15/CJA-03-12.pdf\" target=\"_blank\">CJA-03-12</a></p>\n",
       "<p><a class=\"whiteTxtLink\" href=\"Navajo Nation Codes/Title 15/CJA-05-13.PDF\" target=\"_blank\">CJA-05-13</a></p>\n",
       "<p><a class=\"whiteTxtLink\" href=\"Navajo Nation Codes/Title 15/CJY-35-13.pdf\" target=\"_blank\">CJY-35-13</a></p>\n",
       "<p><a class=\"whiteTxtLink\" href=\"Navajo Nation Codes/Title 15/CJY-38-13.pdf\" target=\"_blank\">CJY-38-13</a></p>\n",
       "<p><a class=\"whiteTxtLink\" href=\"Navajo Nation Codes/Title 15/CO-48-14.pdf\" target=\"_blank\">CO-48-14</a></p>\n",
       "<p><strong>Title 16 Amendments</strong></p>\n",
       "<p><a class=\"whiteTxtLink\" href=\"Navajo Nation Codes/Title 16/CO-53-13.pdf\" target=\"_blank\">CO-53-13</a></p>\n",
       "<p><strong>Title 17 Amendments</strong></p>\n",
       "<p><a class=\"whiteTxtLink\" href=\"Navajo Nation Codes/Title 17/CAP-22-10.PDF\" target=\"_blank\">CAP-22-10</a></p>\n",
       "<p><a class=\"whiteTxtLink\" href=\"Navajo Nation Codes/Title 17/CD-56-10.PDF\" target=\"_blank\">CD-56-10</a></p>\n",
       "<p><a class=\"whiteTxtLink\" href=\"Navajo Nation Codes/Title 17/CJA-04-12.pdf\" target=\"_blank\">CJA-04-12</a></p>\n",
       "<p><a class=\"whiteTxtLink\" href=\"Navajo Nation Codes/Title 17/CAP-28-12.PDF\" target=\"_blank\">CAP-28-12</a></p>\n",
       "<p><a class=\"whiteTxtLink\" href=\"Navajo Nation Codes/Title 17/CJY-40-12.PDF\" target=\"_blank\">CJY-40-12</a></p>\n",
       "<p><a class=\"whiteTxtLink\" href=\"Navajo Nation Codes/Title 17/CJN-27-13.pdf\" target=\"_blank\">CJN-27-13</a></p>\n",
       "<p><a class=\"whiteTxtLink\" href=\"Navajo Nation Codes/Title 17/CJY-29-13.pdf\" target=\"_blank\">CJY-29-13</a></p>\n",
       "<p><a class=\"whiteTxtLink\" href=\"Navajo Nation Codes/Title 17/CJN-31-14.pdf\" target=\"_blank\">CJN-31-14</a></p>\n",
       "<p><a class=\"whiteTxtLink\" href=\"Navajo Nation Codes/Title 17/CN-52-14.pdf\" target=\"_blank\">CN-52-14</a></p>\n",
       "<p><strong>Title 18 Amendments</strong></p>\n",
       "<p><a class=\"whiteTxtLink\" href=\"Navajo Nation Codes/Title 18/CAP-20-10.PDF\" target=\"_blank\">CAP-20-10</a></p>\n",
       "<p><a class=\"whiteTxtLink\" href=\"Navajo Nation Codes/Title 18/CF-18-12.PDF\" target=\"_blank\">CF-18-12</a></p>\n",
       "<p><strong>Title 21 Amendments</strong></p>\n",
       "<p><a class=\"whiteTxtLink\" href=\"Navajo Nation Codes/Title 21/CAP-16-10.PDF\" target=\"_blank\">CAP-16-10</a></p>\n",
       "<p><a class=\"whiteTxtLink\" href=\"Navajo Nation Codes/Title 21/CAP-18-10.PDF\" target=\"_blank\">CAP-18-10</a></p>\n",
       "<p><a class=\"whiteTxtLink\" href=\"Navajo Nation Codes/Title 21/CO-51-13.pdf\" target=\"_blank\">CO-51-13</a></p>\n",
       "<p><strong>Title 22 Amendments</strong></p>\n",
       "<p><a class=\"whiteTxtLink\" href=\"Navajo Nation Codes/Title 22/CAP-27-12.PDF\" target=\"_blank\">CAP-27-12</a></p>\n",
       "<p><strong>Title 24 Amendments</strong></p>\n",
       "<p><a class=\"whiteTxtLink\" href=\"Navajo Nation Codes/Title 24/CJY-31-10.pdf\" target=\"_blank\">CJY-31-10</a></p>\n",
       "<p><a class=\"whiteTxtLink\" href=\"Navajo Nation Codes/Title 24/CO-40-10.pdf\" target=\"_blank\">CO-40-10</a></p>\n",
       "<p><a class=\"whiteTxtLink\" href=\"Navajo Nation Codes/Title 24/CO-46-12.pdf\" target=\"_blank\">CO-46-12</a></p>\n",
       "<p><a class=\"whiteTxtLink\" href=\"Navajo Nation Codes/Title 24/CN-54-14.pdf\" target=\"_blank\">CN-54-14</a></p>\n",
       "<p><strong>Title 26 Amendments</strong></p>\n",
       "<p><a class=\"whiteTxtLink\" href=\"Navajo Nation Codes/Title 26/CN-50-10.pdf\" target=\"_blank\">CN-50-10</a></p>\n",
       "</div>\n",
       "</div> </td>\n",
       "</tr>\n",
       "<tr>\n",
       "<td style=\"background:url(images/bg/bg_03_optimized.png); background-repeat:no-repeat; height:90px\"></td>\n",
       "</tr>\n",
       "</table>\n",
       "</div>\n",
       "</body>"
      ]
     },
     "execution_count": 23,
     "metadata": {},
     "output_type": "execute_result"
    }
   ],
   "source": [
    "soup.body"
   ]
  },
  {
   "cell_type": "code",
   "execution_count": 27,
   "metadata": {},
   "outputs": [
    {
     "data": {
      "text/plain": [
       "[<p class=\"style1\"> </p>,\n",
       " <p class=\"style1\">            Navajo Nation Code </p>,\n",
       " <p class=\"whiteTxtLink\">(through 12/2009)</p>,\n",
       " <p class=\"whiteTxtLink\"><a class=\"whiteTxtLink\" href=\"Navajo Nation Codes/V0010.pdf\" target=\"_blank\">Titles 1-5</a></p>,\n",
       " <p><a class=\"whiteTxtLink\" href=\"Navajo Nation Codes/V0020.pdf\" target=\"_blank\">Titles 5A-12</a></p>,\n",
       " <p><a class=\"whiteTxtLink\" href=\"Navajo Nation Codes/V0030.pdf\" target=\"_blank\">Titles 13-20</a></p>,\n",
       " <p><a class=\"whiteTxtLink\" href=\"Navajo Nation Codes/V0040.pdf\" target=\"_blank\">Titles 21-26</a></p>,\n",
       " <p> </p>,\n",
       " <p><span class=\"style1\">\t             Amendments</span></p>,\n",
       " <p> (updates through 12/2014)</p>,\n",
       " <p><strong>Title 1 Amendments</strong></p>,\n",
       " <p class=\"whiteTxtLink\"><span class=\"style3\"><a class=\"whiteTxtLink\" href=\"Navajo Nation Codes/Title 1/CJA-06-10.PDF\" target=\"_blank\">CJA-06-10</a></span></p>,\n",
       " <p class=\"whiteTxtLink\"><span class=\"style4\"><a class=\"whiteTxtLink\" href=\"Navajo Nation Codes/Title 1/CF-12-10.PDF\" target=\"_blank\">CF-12-10</a></span></p>,\n",
       " <p><strong>Title 2 Amendments</strong></p>,\n",
       " <p class=\"whiteTxtLink\"><a class=\"whiteTxtLink\" href=\"Navajo Nation Codes/Title 2/CF-12-10.PDF\" target=\"_blank\">CF-12-10</a></p>,\n",
       " <p class=\"whiteTxtLink\"><a class=\"whiteTxtLink\" href=\"Navajo Nation Codes/Title 2/CAP-17-10.PDF\" target=\"_blank\">CAP-17-10</a></p>,\n",
       " <p class=\"whiteTxtLink\"><a class=\"whiteTxtLink\" href=\"Navajo Nation Codes/Title 2/CJN-24-10.PDF\" target=\"_blank\">CJN-24-10</a></p>,\n",
       " <p class=\"whiteTxtLink\"><a class=\"whiteTxtLink\" href=\"Navajo Nation Codes/Title 2/CO-39-10.pdf\" target=\"_blank\">CO-39-10</a></p>,\n",
       " <p class=\"whiteTxtLink\"><a class=\"whiteTxtLink\" href=\"Navajo Nation Codes/Title 2/CJA-06-10.PDF\" target=\"_blank\">CJA-06-11</a></p>,\n",
       " <p class=\"whiteTxtLink\"><a class=\"whiteTxtLink\" href=\"Navajo Nation Codes/Title 2/CAP-10-11.pdf\" target=\"_blank\">CAP-10-11</a></p>,\n",
       " <p class=\"whiteTxtLink\"><a class=\"whiteTxtLink\" href=\"Navajo Nation Codes/Title 2/CJY-27-11.pdf\" target=\"_blank\">CJY-27-11</a></p>,\n",
       " <p class=\"whiteTxtLink\"><a class=\"whiteTxtLink\" href=\"Navajo Nation Codes/Title 2/CO-39-11.pdf\" target=\"_blank\">CO-39-11</a></p>,\n",
       " <p class=\"whiteTxtLink\"><a class=\"whiteTxtLink\" href=\"Navajo Nation Codes/Title 2/CO-45-12.pdf\" target=\"_blank\">CO-45-12</a></p>,\n",
       " <p class=\"whiteTxtLink\"><a class=\"whiteTxtLink\" href=\"Navajo Nation Codes/Title 2/CAP-12-13.PDF\" target=\"_blank\">CAP-12-13</a></p>,\n",
       " <p class=\"whiteTxtLink\"><a class=\"whiteTxtLink\" href=\"Navajo Nation Codes/Title 2/CAP-13-13.PDF\" target=\"_blank\">CAP-13-13</a></p>,\n",
       " <p class=\"whiteTxtLink\"><a class=\"whiteTxtLink\" href=\"Navajo Nation Codes/Title 2/CF-12-10.PDF\"></a><a class=\"whiteTxtLink\" href=\"Navajo Nation Codes/Title 2/CJA-03-13.PDF\" target=\"_blank\">CJA-03-13</a></p>,\n",
       " <p class=\"whiteTxtLink\"><a class=\"whiteTxtLink\" href=\"Navajo Nation Codes/Title 2/CJY-30-13.pdf\" target=\"_blank\">CJY-30-13</a></p>,\n",
       " <p class=\"whiteTxtLink\"><a class=\"whiteTxtLink\" href=\"Navajo Nation Codes/Title 2/CO-51-13.pdf\" target=\"_blank\">CO-51-13</a></p>,\n",
       " <p class=\"whiteTxtLink\"><a class=\"whiteTxtLink\" href=\"Navajo Nation Codes/Title 2/CO-52-13.pdf\" target=\"_blank\">CO-52-13</a></p>,\n",
       " <p class=\"whiteTxtLink\"><a class=\"whiteTxtLink\" href=\"Navajo Nation Codes/Title 2/CJN-24-10.PDF\"></a><a class=\"whiteTxtLink\" href=\"Navajo Nation Codes/Title 2/CJA-01-14.pdf\" target=\"new\">CJA-01-14</a></p>,\n",
       " <p class=\"whiteTxtLink\"><a class=\"whiteTxtLink\" href=\"Navajo Nation Codes/Title 2/CO-50-14.pdf\" target=\"_blank\">CO-50-14</a></p>,\n",
       " <p class=\"whiteTxtLink\"><strong>Title 3 Amendments</strong></p>,\n",
       " <p class=\"whiteTxtLink\"><a class=\"whiteTxtLink\" href=\"Navajo Nation Codes/Title 3/CD-76-14.pdf\" target=\"_blank\">CD-76-14</a></p>,\n",
       " <p class=\"whiteTxtLink\"><strong>Title 4 Amendments</strong></p>,\n",
       " <p><a class=\"whiteTxtLink\" href=\"Navajo Nation Codes/Title 4/CJA-09-12.PDF\" target=\"new\">CJA-09-12</a></p>,\n",
       " <p><strong>Title 5 Amendments</strong></p>,\n",
       " <p><a class=\"whiteTxtLink\" href=\"Navajo Nation Codes/Title 5/CAP-21-10.PDF\" target=\"_blank\">CAP-21-10</a></p>,\n",
       " <p><a class=\"whiteTxtLink\" href=\"Navajo Nation Codes/Title 5/CJY-38-13.pdf\" target=\"_blank\">CJY-38-13</a></p>,\n",
       " <p><a class=\"whiteTxtLink\" href=\"Navajo Nation Codes/Title 5/CN-56-14.pdf\" target=\"_blank\">CN-56-14</a></p>,\n",
       " <p><a class=\"whiteTxtLink\" href=\"Navajo Nation Codes/Title 5/CD-63-14.pdf\" target=\"_blank\">CD-63-14 (Override of Presidential Veto of CN-56-14)</a></p>,\n",
       " <p><strong>Title 7 Amendments</strong></p>,\n",
       " <p><a class=\"whiteTxtLink\" href=\"Navajo Nation Codes/Title 7/CAP-17-10.PDF\" target=\"_blank\">CAP-17-10</a></p>,\n",
       " <p><a class=\"whiteTxtLink\" href=\"Navajo Nation Codes/Title 7/CJN-24-10.PDF\" target=\"_blank\">CJN-24-10</a></p>,\n",
       " <p><a class=\"whiteTxtLink\" href=\"Navajo Nation Codes/Title 7/CJY-29-13.pdf\" target=\"_blank\">CJY-29-13</a></p>,\n",
       " <p><strong>Title 9 Amendments</strong></p>,\n",
       " <p><a class=\"whiteTxtLink\" href=\"Navajo Nation Codes/Title 9/CO-38-11.pdf\" target=\"_blank\">CO-38-11</a></p>,\n",
       " <p><a class=\"whiteTxtLink\" href=\"Navajo Nation Codes/Title 9/CJA-02-12.pdf\" target=\"_blank\">CJA-02-12</a></p>,\n",
       " <p><a class=\"whiteTxtLink\" href=\"Navajo Nation Codes/Title 9/CMY-30-14.pdf\" target=\"_blank\">CMY-30-14</a></p>,\n",
       " <p><strong>Title 11 Amendments</strong></p>,\n",
       " <p><a class=\"whiteTxtLink\" href=\"Navajo Nation Codes/Title 11/CAP-23-10.PDF\" target=\"_blank\">CAP-23-10</a></p>,\n",
       " <p><a class=\"whiteTxtLink\" href=\"Navajo Nation Codes/Title 11/CD-54-10.PDF\" target=\"_blank\">CD-54-10</a></p>,\n",
       " <p><a class=\"whiteTxtLink\" href=\"Navajo Nation Codes/Title 11/CAP-12-11.pdf\" target=\"_blank\">CAP-12-11</a></p>,\n",
       " <p><a class=\"whiteTxtLink\" href=\"Navajo Nation Codes/Title 11/CAP-13-11.pdf\" target=\"_blank\">CAP-13-11</a></p>,\n",
       " <p><a class=\"whiteTxtLink\" href=\"Navajo Nation Codes/Title 11/CO-41-11.pdf\" target=\"_blank\">CO-41-11</a></p>,\n",
       " <p><a class=\"whiteTxtLink\" href=\"Navajo Nation Codes/Title 11/CJA-01-12.pdf\" target=\"_blank\">CJA-01-12</a></p>,\n",
       " <p><a class=\"whiteTxtLink\" href=\"Navajo Nation Codes/Title 11/CJA-06-12.pdf\" target=\"_blank\">CJA-06-12</a></p>,\n",
       " <p><a class=\"whiteTxtLink\" href=\"Navajo Nation Codes/Title 11/CAP-24-12.PDF\" target=\"_blank\">CAP-24-12</a></p>,\n",
       " <p><a class=\"whiteTxtLink\" href=\"Navajo Nation Codes/Title 11/CMY-38-12.PDF\" target=\"_blank\">CMY-38-12</a></p>,\n",
       " <p><a class=\"whiteTxtLink\" href=\"Navajo Nation Codes/Title 11/CO-54-13.pdf\" target=\"_blank\">CO-54-13</a></p>,\n",
       " <p><a class=\"whiteTxtLink\" href=\"Navajo Nation Codes/Title 11/CO-56-13.pdf\" target=\"_blank\">CO-56-13</a></p>,\n",
       " <p><a class=\"whiteTxtLink\" href=\"Navajo Nation Codes/Title 11/CO-59-13.pdf\" target=\"_blank\">CO-59-13</a></p>,\n",
       " <p><a class=\"whiteTxtLink\" href=\"Navajo Nation Codes/Title 11/CJA-02-14.pdf\" target=\"_blank\">CJA-02-14</a></p>,\n",
       " <p><strong>Title 12 Amendments</strong></p>,\n",
       " <p><a class=\"whiteTxtLink\" href=\"Navajo Nation Codes/Title 12/CD-43-09.PDF\" target=\"_blank\">CD-43-09</a></p>,\n",
       " <p><a class=\"whiteTxtLink\" href=\"Navajo Nation Codes/Title 12/BFMY-15-10.pdf\" target=\"_blank\">BFMY-15-10</a></p>,\n",
       " <p><a class=\"whiteTxtLink\" href=\"Navajo Nation Codes/Title 12/CO-45-10.pdf\" target=\"_blank\">CO-45-10</a></p>,\n",
       " <p><a class=\"whiteTxtLink\" href=\"Navajo Nation Codes/Title 12/CAU-34-11.pdf\" target=\"_blank\">CAU-34-11</a></p>,\n",
       " <p><a class=\"whiteTxtLink\" href=\"Navajo Nation Codes/Title 12/CO-44-11.pdf\" target=\"_blank\">CO-44-11</a></p>,\n",
       " <p><a class=\"whiteTxtLink\" href=\"Navajo Nation Codes/Title 12/CAP-29-12.PDF\" target=\"_blank\">CAP-29-12</a></p>,\n",
       " <p><a class=\"whiteTxtLink\" href=\"Navajo Nation Codes/Title 12/CJY-41-12.PDF\" target=\"_blank\">CJY-41-12</a></p>,\n",
       " <p><a class=\"whiteTxtLink\" href=\"Navajo Nation Codes/Title 12/CJY-43-13.pdf\" target=\"_blank\">CJY-43-13</a></p>,\n",
       " <p><a class=\"whiteTxtLink\" href=\"Navajo Nation Codes/Title 12/CS-48-13.pdf\" target=\"_blank\">CS-48-13</a></p>,\n",
       " <p><strong>Title 13 Amendments</strong></p>,\n",
       " <p><a class=\"whiteTxtLink\" href=\"Navajo Nation Codes/Title 13/CO-41-11.pdf\" target=\"_blank\">CO-41-11</a></p>,\n",
       " <p><strong>Title 15 Amendments</strong></p>,\n",
       " <p><a class=\"whiteTxtLink\" href=\"Navajo Nation Codes/Title 15/CJA-03-12.pdf\" target=\"_blank\">CJA-03-12</a></p>,\n",
       " <p><a class=\"whiteTxtLink\" href=\"Navajo Nation Codes/Title 15/CJA-05-13.PDF\" target=\"_blank\">CJA-05-13</a></p>,\n",
       " <p><a class=\"whiteTxtLink\" href=\"Navajo Nation Codes/Title 15/CJY-35-13.pdf\" target=\"_blank\">CJY-35-13</a></p>,\n",
       " <p><a class=\"whiteTxtLink\" href=\"Navajo Nation Codes/Title 15/CJY-38-13.pdf\" target=\"_blank\">CJY-38-13</a></p>,\n",
       " <p><a class=\"whiteTxtLink\" href=\"Navajo Nation Codes/Title 15/CO-48-14.pdf\" target=\"_blank\">CO-48-14</a></p>,\n",
       " <p><strong>Title 16 Amendments</strong></p>,\n",
       " <p><a class=\"whiteTxtLink\" href=\"Navajo Nation Codes/Title 16/CO-53-13.pdf\" target=\"_blank\">CO-53-13</a></p>,\n",
       " <p><strong>Title 17 Amendments</strong></p>,\n",
       " <p><a class=\"whiteTxtLink\" href=\"Navajo Nation Codes/Title 17/CAP-22-10.PDF\" target=\"_blank\">CAP-22-10</a></p>,\n",
       " <p><a class=\"whiteTxtLink\" href=\"Navajo Nation Codes/Title 17/CD-56-10.PDF\" target=\"_blank\">CD-56-10</a></p>,\n",
       " <p><a class=\"whiteTxtLink\" href=\"Navajo Nation Codes/Title 17/CJA-04-12.pdf\" target=\"_blank\">CJA-04-12</a></p>,\n",
       " <p><a class=\"whiteTxtLink\" href=\"Navajo Nation Codes/Title 17/CAP-28-12.PDF\" target=\"_blank\">CAP-28-12</a></p>,\n",
       " <p><a class=\"whiteTxtLink\" href=\"Navajo Nation Codes/Title 17/CJY-40-12.PDF\" target=\"_blank\">CJY-40-12</a></p>,\n",
       " <p><a class=\"whiteTxtLink\" href=\"Navajo Nation Codes/Title 17/CJN-27-13.pdf\" target=\"_blank\">CJN-27-13</a></p>,\n",
       " <p><a class=\"whiteTxtLink\" href=\"Navajo Nation Codes/Title 17/CJY-29-13.pdf\" target=\"_blank\">CJY-29-13</a></p>,\n",
       " <p><a class=\"whiteTxtLink\" href=\"Navajo Nation Codes/Title 17/CJN-31-14.pdf\" target=\"_blank\">CJN-31-14</a></p>,\n",
       " <p><a class=\"whiteTxtLink\" href=\"Navajo Nation Codes/Title 17/CN-52-14.pdf\" target=\"_blank\">CN-52-14</a></p>,\n",
       " <p><strong>Title 18 Amendments</strong></p>,\n",
       " <p><a class=\"whiteTxtLink\" href=\"Navajo Nation Codes/Title 18/CAP-20-10.PDF\" target=\"_blank\">CAP-20-10</a></p>,\n",
       " <p><a class=\"whiteTxtLink\" href=\"Navajo Nation Codes/Title 18/CF-18-12.PDF\" target=\"_blank\">CF-18-12</a></p>,\n",
       " <p><strong>Title 21 Amendments</strong></p>,\n",
       " <p><a class=\"whiteTxtLink\" href=\"Navajo Nation Codes/Title 21/CAP-16-10.PDF\" target=\"_blank\">CAP-16-10</a></p>,\n",
       " <p><a class=\"whiteTxtLink\" href=\"Navajo Nation Codes/Title 21/CAP-18-10.PDF\" target=\"_blank\">CAP-18-10</a></p>,\n",
       " <p><a class=\"whiteTxtLink\" href=\"Navajo Nation Codes/Title 21/CO-51-13.pdf\" target=\"_blank\">CO-51-13</a></p>,\n",
       " <p><strong>Title 22 Amendments</strong></p>,\n",
       " <p><a class=\"whiteTxtLink\" href=\"Navajo Nation Codes/Title 22/CAP-27-12.PDF\" target=\"_blank\">CAP-27-12</a></p>,\n",
       " <p><strong>Title 24 Amendments</strong></p>,\n",
       " <p><a class=\"whiteTxtLink\" href=\"Navajo Nation Codes/Title 24/CJY-31-10.pdf\" target=\"_blank\">CJY-31-10</a></p>,\n",
       " <p><a class=\"whiteTxtLink\" href=\"Navajo Nation Codes/Title 24/CO-40-10.pdf\" target=\"_blank\">CO-40-10</a></p>,\n",
       " <p><a class=\"whiteTxtLink\" href=\"Navajo Nation Codes/Title 24/CO-46-12.pdf\" target=\"_blank\">CO-46-12</a></p>,\n",
       " <p><a class=\"whiteTxtLink\" href=\"Navajo Nation Codes/Title 24/CN-54-14.pdf\" target=\"_blank\">CN-54-14</a></p>,\n",
       " <p><strong>Title 26 Amendments</strong></p>,\n",
       " <p><a class=\"whiteTxtLink\" href=\"Navajo Nation Codes/Title 26/CN-50-10.pdf\" target=\"_blank\">CN-50-10</a></p>]"
      ]
     },
     "execution_count": 27,
     "metadata": {},
     "output_type": "execute_result"
    }
   ],
   "source": [
    "soup.find_all(\"p\")"
   ]
  },
  {
   "cell_type": "code",
   "execution_count": 30,
   "metadata": {},
   "outputs": [
    {
     "name": "stdout",
     "output_type": "stream",
     "text": [
      "Found the URL: index.html\n",
      "Found the URL: speaker.html\n",
      "Found the URL: council.html\n",
      "Found the URL: news.html\n",
      "Found the URL: legislation.html\n",
      "Found the URL: committees.html\n",
      "Found the URL: meetings.html\n",
      "Found the URL: directory.html\n",
      "Found the URL: Navajo Nation Codes/V0010.pdf\n",
      "Found the URL: Navajo Nation Codes/V0020.pdf\n",
      "Found the URL: Navajo Nation Codes/V0030.pdf\n",
      "Found the URL: Navajo Nation Codes/V0040.pdf\n",
      "Found the URL: Navajo Nation Codes/Title 1/CJA-06-10.PDF\n",
      "Found the URL: Navajo Nation Codes/Title 1/CF-12-10.PDF\n",
      "Found the URL: Navajo Nation Codes/Title 2/CF-12-10.PDF\n",
      "Found the URL: Navajo Nation Codes/Title 2/CAP-17-10.PDF\n",
      "Found the URL: Navajo Nation Codes/Title 2/CJN-24-10.PDF\n",
      "Found the URL: Navajo Nation Codes/Title 2/CO-39-10.pdf\n",
      "Found the URL: Navajo Nation Codes/Title 2/CJA-06-10.PDF\n",
      "Found the URL: Navajo Nation Codes/Title 2/CAP-10-11.pdf\n",
      "Found the URL: Navajo Nation Codes/Title 2/CJY-27-11.pdf\n",
      "Found the URL: Navajo Nation Codes/Title 2/CO-39-11.pdf\n",
      "Found the URL: Navajo Nation Codes/Title 2/CO-45-12.pdf\n",
      "Found the URL: Navajo Nation Codes/Title 2/CAP-12-13.PDF\n",
      "Found the URL: Navajo Nation Codes/Title 2/CAP-13-13.PDF\n",
      "Found the URL: Navajo Nation Codes/Title 2/CF-12-10.PDF\n",
      "Found the URL: Navajo Nation Codes/Title 2/CJA-03-13.PDF\n",
      "Found the URL: Navajo Nation Codes/Title 2/CJY-30-13.pdf\n",
      "Found the URL: Navajo Nation Codes/Title 2/CO-51-13.pdf\n",
      "Found the URL: Navajo Nation Codes/Title 2/CO-52-13.pdf\n",
      "Found the URL: Navajo Nation Codes/Title 2/CJN-24-10.PDF\n",
      "Found the URL: Navajo Nation Codes/Title 2/CJA-01-14.pdf\n",
      "Found the URL: Navajo Nation Codes/Title 2/CO-50-14.pdf\n",
      "Found the URL: Navajo Nation Codes/Title 3/CD-76-14.pdf\n",
      "Found the URL: Navajo Nation Codes/Title 4/CJA-09-12.PDF\n",
      "Found the URL: Navajo Nation Codes/Title 5/CAP-21-10.PDF\n",
      "Found the URL: Navajo Nation Codes/Title 5/CJY-38-13.pdf\n",
      "Found the URL: Navajo Nation Codes/Title 5/CN-56-14.pdf\n",
      "Found the URL: Navajo Nation Codes/Title 5/CD-63-14.pdf\n",
      "Found the URL: Navajo Nation Codes/Title 7/CAP-17-10.PDF\n",
      "Found the URL: Navajo Nation Codes/Title 7/CJN-24-10.PDF\n",
      "Found the URL: Navajo Nation Codes/Title 7/CJY-29-13.pdf\n",
      "Found the URL: Navajo Nation Codes/Title 9/CO-38-11.pdf\n",
      "Found the URL: Navajo Nation Codes/Title 9/CJA-02-12.pdf\n",
      "Found the URL: Navajo Nation Codes/Title 9/CMY-30-14.pdf\n",
      "Found the URL: Navajo Nation Codes/Title 11/CAP-23-10.PDF\n",
      "Found the URL: Navajo Nation Codes/Title 11/CD-54-10.PDF\n",
      "Found the URL: Navajo Nation Codes/Title 11/CAP-12-11.pdf\n",
      "Found the URL: Navajo Nation Codes/Title 11/CAP-13-11.pdf\n",
      "Found the URL: Navajo Nation Codes/Title 11/CO-41-11.pdf\n",
      "Found the URL: Navajo Nation Codes/Title 11/CJA-01-12.pdf\n",
      "Found the URL: Navajo Nation Codes/Title 11/CJA-06-12.pdf\n",
      "Found the URL: Navajo Nation Codes/Title 11/CAP-24-12.PDF\n",
      "Found the URL: Navajo Nation Codes/Title 11/CMY-38-12.PDF\n",
      "Found the URL: Navajo Nation Codes/Title 11/CO-54-13.pdf\n",
      "Found the URL: Navajo Nation Codes/Title 11/CO-56-13.pdf\n",
      "Found the URL: Navajo Nation Codes/Title 11/CO-59-13.pdf\n",
      "Found the URL: Navajo Nation Codes/Title 11/CJA-02-14.pdf\n",
      "Found the URL: Navajo Nation Codes/Title 12/CD-43-09.PDF\n",
      "Found the URL: Navajo Nation Codes/Title 12/BFMY-15-10.pdf\n",
      "Found the URL: Navajo Nation Codes/Title 12/CO-45-10.pdf\n",
      "Found the URL: Navajo Nation Codes/Title 12/CAU-34-11.pdf\n",
      "Found the URL: Navajo Nation Codes/Title 12/CO-44-11.pdf\n",
      "Found the URL: Navajo Nation Codes/Title 12/CAP-29-12.PDF\n",
      "Found the URL: Navajo Nation Codes/Title 12/CJY-41-12.PDF\n",
      "Found the URL: Navajo Nation Codes/Title 12/CJY-43-13.pdf\n",
      "Found the URL: Navajo Nation Codes/Title 12/CS-48-13.pdf\n",
      "Found the URL: Navajo Nation Codes/Title 13/CO-41-11.pdf\n",
      "Found the URL: Navajo Nation Codes/Title 15/CJA-03-12.pdf\n",
      "Found the URL: Navajo Nation Codes/Title 15/CJA-05-13.PDF\n",
      "Found the URL: Navajo Nation Codes/Title 15/CJY-35-13.pdf\n",
      "Found the URL: Navajo Nation Codes/Title 15/CJY-38-13.pdf\n",
      "Found the URL: Navajo Nation Codes/Title 15/CO-48-14.pdf\n",
      "Found the URL: Navajo Nation Codes/Title 16/CO-53-13.pdf\n",
      "Found the URL: Navajo Nation Codes/Title 17/CAP-22-10.PDF\n",
      "Found the URL: Navajo Nation Codes/Title 17/CD-56-10.PDF\n",
      "Found the URL: Navajo Nation Codes/Title 17/CJA-04-12.pdf\n",
      "Found the URL: Navajo Nation Codes/Title 17/CAP-28-12.PDF\n",
      "Found the URL: Navajo Nation Codes/Title 17/CJY-40-12.PDF\n",
      "Found the URL: Navajo Nation Codes/Title 17/CJN-27-13.pdf\n",
      "Found the URL: Navajo Nation Codes/Title 17/CJY-29-13.pdf\n",
      "Found the URL: Navajo Nation Codes/Title 17/CJN-31-14.pdf\n",
      "Found the URL: Navajo Nation Codes/Title 17/CN-52-14.pdf\n",
      "Found the URL: Navajo Nation Codes/Title 18/CAP-20-10.PDF\n",
      "Found the URL: Navajo Nation Codes/Title 18/CF-18-12.PDF\n",
      "Found the URL: Navajo Nation Codes/Title 21/CAP-16-10.PDF\n",
      "Found the URL: Navajo Nation Codes/Title 21/CAP-18-10.PDF\n",
      "Found the URL: Navajo Nation Codes/Title 21/CO-51-13.pdf\n",
      "Found the URL: Navajo Nation Codes/Title 22/CAP-27-12.PDF\n",
      "Found the URL: Navajo Nation Codes/Title 24/CJY-31-10.pdf\n",
      "Found the URL: Navajo Nation Codes/Title 24/CO-40-10.pdf\n",
      "Found the URL: Navajo Nation Codes/Title 24/CO-46-12.pdf\n",
      "Found the URL: Navajo Nation Codes/Title 24/CN-54-14.pdf\n",
      "Found the URL: Navajo Nation Codes/Title 26/CN-50-10.pdf\n"
     ]
    }
   ],
   "source": [
    "for a in soup.find_all('a', href=True):\n",
    "    print (\"Found the URL:\", a['href'])"
   ]
  },
  {
   "cell_type": "code",
   "execution_count": 33,
   "metadata": {},
   "outputs": [
    {
     "ename": "error",
     "evalue": "nothing to repeat at position 0",
     "output_type": "error",
     "traceback": [
      "\u001b[0;31m---------------------------------------------------------------------------\u001b[0m",
      "\u001b[0;31merror\u001b[0m                                     Traceback (most recent call last)",
      "\u001b[0;32m<ipython-input-33-dfba1b0b9085>\u001b[0m in \u001b[0;36m<module>\u001b[0;34m\u001b[0m\n\u001b[1;32m      1\u001b[0m \u001b[0;32mfor\u001b[0m \u001b[0ma\u001b[0m \u001b[0;32min\u001b[0m \u001b[0msoup\u001b[0m\u001b[0;34m.\u001b[0m\u001b[0mfind_all\u001b[0m\u001b[0;34m(\u001b[0m\u001b[0;34m'a'\u001b[0m\u001b[0;34m,\u001b[0m \u001b[0mhref\u001b[0m\u001b[0;34m=\u001b[0m\u001b[0;32mTrue\u001b[0m\u001b[0;34m)\u001b[0m\u001b[0;34m:\u001b[0m\u001b[0;34m\u001b[0m\u001b[0;34m\u001b[0m\u001b[0m\n\u001b[0;32m----> 2\u001b[0;31m     \u001b[0mvalue\u001b[0m \u001b[0;34m=\u001b[0m \u001b[0mre\u001b[0m\u001b[0;34m.\u001b[0m\u001b[0mmatch\u001b[0m\u001b[0;34m(\u001b[0m\u001b[0;34m\"*.pdf\"\u001b[0m\u001b[0;34m,\u001b[0m \u001b[0ma\u001b[0m\u001b[0;34m[\u001b[0m\u001b[0;34m'href'\u001b[0m\u001b[0;34m]\u001b[0m\u001b[0;34m)\u001b[0m\u001b[0;34m\u001b[0m\u001b[0;34m\u001b[0m\u001b[0m\n\u001b[0m\u001b[1;32m      3\u001b[0m     \u001b[0mprint\u001b[0m \u001b[0;34m(\u001b[0m\u001b[0;34m\"Found the URL:\"\u001b[0m\u001b[0;34m,\u001b[0m \u001b[0ma\u001b[0m\u001b[0;34m[\u001b[0m\u001b[0;34m'href'\u001b[0m\u001b[0;34m]\u001b[0m\u001b[0;34m)\u001b[0m\u001b[0;34m\u001b[0m\u001b[0;34m\u001b[0m\u001b[0m\n",
      "\u001b[0;32m~/anaconda3/lib/python3.6/re.py\u001b[0m in \u001b[0;36mmatch\u001b[0;34m(pattern, string, flags)\u001b[0m\n\u001b[1;32m    170\u001b[0m     \"\"\"Try to apply the pattern at the start of the string, returning\n\u001b[1;32m    171\u001b[0m     a match object, or None if no match was found.\"\"\"\n\u001b[0;32m--> 172\u001b[0;31m     \u001b[0;32mreturn\u001b[0m \u001b[0m_compile\u001b[0m\u001b[0;34m(\u001b[0m\u001b[0mpattern\u001b[0m\u001b[0;34m,\u001b[0m \u001b[0mflags\u001b[0m\u001b[0;34m)\u001b[0m\u001b[0;34m.\u001b[0m\u001b[0mmatch\u001b[0m\u001b[0;34m(\u001b[0m\u001b[0mstring\u001b[0m\u001b[0;34m)\u001b[0m\u001b[0;34m\u001b[0m\u001b[0;34m\u001b[0m\u001b[0m\n\u001b[0m\u001b[1;32m    173\u001b[0m \u001b[0;34m\u001b[0m\u001b[0m\n\u001b[1;32m    174\u001b[0m \u001b[0;32mdef\u001b[0m \u001b[0mfullmatch\u001b[0m\u001b[0;34m(\u001b[0m\u001b[0mpattern\u001b[0m\u001b[0;34m,\u001b[0m \u001b[0mstring\u001b[0m\u001b[0;34m,\u001b[0m \u001b[0mflags\u001b[0m\u001b[0;34m=\u001b[0m\u001b[0;36m0\u001b[0m\u001b[0;34m)\u001b[0m\u001b[0;34m:\u001b[0m\u001b[0;34m\u001b[0m\u001b[0;34m\u001b[0m\u001b[0m\n",
      "\u001b[0;32m~/anaconda3/lib/python3.6/re.py\u001b[0m in \u001b[0;36m_compile\u001b[0;34m(pattern, flags)\u001b[0m\n\u001b[1;32m    299\u001b[0m     \u001b[0;32mif\u001b[0m \u001b[0;32mnot\u001b[0m \u001b[0msre_compile\u001b[0m\u001b[0;34m.\u001b[0m\u001b[0misstring\u001b[0m\u001b[0;34m(\u001b[0m\u001b[0mpattern\u001b[0m\u001b[0;34m)\u001b[0m\u001b[0;34m:\u001b[0m\u001b[0;34m\u001b[0m\u001b[0;34m\u001b[0m\u001b[0m\n\u001b[1;32m    300\u001b[0m         \u001b[0;32mraise\u001b[0m \u001b[0mTypeError\u001b[0m\u001b[0;34m(\u001b[0m\u001b[0;34m\"first argument must be string or compiled pattern\"\u001b[0m\u001b[0;34m)\u001b[0m\u001b[0;34m\u001b[0m\u001b[0;34m\u001b[0m\u001b[0m\n\u001b[0;32m--> 301\u001b[0;31m     \u001b[0mp\u001b[0m \u001b[0;34m=\u001b[0m \u001b[0msre_compile\u001b[0m\u001b[0;34m.\u001b[0m\u001b[0mcompile\u001b[0m\u001b[0;34m(\u001b[0m\u001b[0mpattern\u001b[0m\u001b[0;34m,\u001b[0m \u001b[0mflags\u001b[0m\u001b[0;34m)\u001b[0m\u001b[0;34m\u001b[0m\u001b[0;34m\u001b[0m\u001b[0m\n\u001b[0m\u001b[1;32m    302\u001b[0m     \u001b[0;32mif\u001b[0m \u001b[0;32mnot\u001b[0m \u001b[0;34m(\u001b[0m\u001b[0mflags\u001b[0m \u001b[0;34m&\u001b[0m \u001b[0mDEBUG\u001b[0m\u001b[0;34m)\u001b[0m\u001b[0;34m:\u001b[0m\u001b[0;34m\u001b[0m\u001b[0;34m\u001b[0m\u001b[0m\n\u001b[1;32m    303\u001b[0m         \u001b[0;32mif\u001b[0m \u001b[0mlen\u001b[0m\u001b[0;34m(\u001b[0m\u001b[0m_cache\u001b[0m\u001b[0;34m)\u001b[0m \u001b[0;34m>=\u001b[0m \u001b[0m_MAXCACHE\u001b[0m\u001b[0;34m:\u001b[0m\u001b[0;34m\u001b[0m\u001b[0;34m\u001b[0m\u001b[0m\n",
      "\u001b[0;32m~/anaconda3/lib/python3.6/sre_compile.py\u001b[0m in \u001b[0;36mcompile\u001b[0;34m(p, flags)\u001b[0m\n\u001b[1;32m    560\u001b[0m     \u001b[0;32mif\u001b[0m \u001b[0misstring\u001b[0m\u001b[0;34m(\u001b[0m\u001b[0mp\u001b[0m\u001b[0;34m)\u001b[0m\u001b[0;34m:\u001b[0m\u001b[0;34m\u001b[0m\u001b[0;34m\u001b[0m\u001b[0m\n\u001b[1;32m    561\u001b[0m         \u001b[0mpattern\u001b[0m \u001b[0;34m=\u001b[0m \u001b[0mp\u001b[0m\u001b[0;34m\u001b[0m\u001b[0;34m\u001b[0m\u001b[0m\n\u001b[0;32m--> 562\u001b[0;31m         \u001b[0mp\u001b[0m \u001b[0;34m=\u001b[0m \u001b[0msre_parse\u001b[0m\u001b[0;34m.\u001b[0m\u001b[0mparse\u001b[0m\u001b[0;34m(\u001b[0m\u001b[0mp\u001b[0m\u001b[0;34m,\u001b[0m \u001b[0mflags\u001b[0m\u001b[0;34m)\u001b[0m\u001b[0;34m\u001b[0m\u001b[0;34m\u001b[0m\u001b[0m\n\u001b[0m\u001b[1;32m    563\u001b[0m     \u001b[0;32melse\u001b[0m\u001b[0;34m:\u001b[0m\u001b[0;34m\u001b[0m\u001b[0;34m\u001b[0m\u001b[0m\n\u001b[1;32m    564\u001b[0m         \u001b[0mpattern\u001b[0m \u001b[0;34m=\u001b[0m \u001b[0;32mNone\u001b[0m\u001b[0;34m\u001b[0m\u001b[0;34m\u001b[0m\u001b[0m\n",
      "\u001b[0;32m~/anaconda3/lib/python3.6/sre_parse.py\u001b[0m in \u001b[0;36mparse\u001b[0;34m(str, flags, pattern)\u001b[0m\n\u001b[1;32m    853\u001b[0m \u001b[0;34m\u001b[0m\u001b[0m\n\u001b[1;32m    854\u001b[0m     \u001b[0;32mtry\u001b[0m\u001b[0;34m:\u001b[0m\u001b[0;34m\u001b[0m\u001b[0;34m\u001b[0m\u001b[0m\n\u001b[0;32m--> 855\u001b[0;31m         \u001b[0mp\u001b[0m \u001b[0;34m=\u001b[0m \u001b[0m_parse_sub\u001b[0m\u001b[0;34m(\u001b[0m\u001b[0msource\u001b[0m\u001b[0;34m,\u001b[0m \u001b[0mpattern\u001b[0m\u001b[0;34m,\u001b[0m \u001b[0mflags\u001b[0m \u001b[0;34m&\u001b[0m \u001b[0mSRE_FLAG_VERBOSE\u001b[0m\u001b[0;34m,\u001b[0m \u001b[0;36m0\u001b[0m\u001b[0;34m)\u001b[0m\u001b[0;34m\u001b[0m\u001b[0;34m\u001b[0m\u001b[0m\n\u001b[0m\u001b[1;32m    856\u001b[0m     \u001b[0;32mexcept\u001b[0m \u001b[0mVerbose\u001b[0m\u001b[0;34m:\u001b[0m\u001b[0;34m\u001b[0m\u001b[0;34m\u001b[0m\u001b[0m\n\u001b[1;32m    857\u001b[0m         \u001b[0;31m# the VERBOSE flag was switched on inside the pattern.  to be\u001b[0m\u001b[0;34m\u001b[0m\u001b[0;34m\u001b[0m\u001b[0;34m\u001b[0m\u001b[0m\n",
      "\u001b[0;32m~/anaconda3/lib/python3.6/sre_parse.py\u001b[0m in \u001b[0;36m_parse_sub\u001b[0;34m(source, state, verbose, nested)\u001b[0m\n\u001b[1;32m    414\u001b[0m     \u001b[0;32mwhile\u001b[0m \u001b[0;32mTrue\u001b[0m\u001b[0;34m:\u001b[0m\u001b[0;34m\u001b[0m\u001b[0;34m\u001b[0m\u001b[0m\n\u001b[1;32m    415\u001b[0m         itemsappend(_parse(source, state, verbose, nested + 1,\n\u001b[0;32m--> 416\u001b[0;31m                            not nested and not items))\n\u001b[0m\u001b[1;32m    417\u001b[0m         \u001b[0;32mif\u001b[0m \u001b[0;32mnot\u001b[0m \u001b[0msourcematch\u001b[0m\u001b[0;34m(\u001b[0m\u001b[0;34m\"|\"\u001b[0m\u001b[0;34m)\u001b[0m\u001b[0;34m:\u001b[0m\u001b[0;34m\u001b[0m\u001b[0;34m\u001b[0m\u001b[0m\n\u001b[1;32m    418\u001b[0m             \u001b[0;32mbreak\u001b[0m\u001b[0;34m\u001b[0m\u001b[0;34m\u001b[0m\u001b[0m\n",
      "\u001b[0;32m~/anaconda3/lib/python3.6/sre_parse.py\u001b[0m in \u001b[0;36m_parse\u001b[0;34m(source, state, verbose, nested, first)\u001b[0m\n\u001b[1;32m    614\u001b[0m             \u001b[0;32mif\u001b[0m \u001b[0;32mnot\u001b[0m \u001b[0mitem\u001b[0m \u001b[0;32mor\u001b[0m \u001b[0;34m(\u001b[0m\u001b[0m_len\u001b[0m\u001b[0;34m(\u001b[0m\u001b[0mitem\u001b[0m\u001b[0;34m)\u001b[0m \u001b[0;34m==\u001b[0m \u001b[0;36m1\u001b[0m \u001b[0;32mand\u001b[0m \u001b[0mitem\u001b[0m\u001b[0;34m[\u001b[0m\u001b[0;36m0\u001b[0m\u001b[0;34m]\u001b[0m\u001b[0;34m[\u001b[0m\u001b[0;36m0\u001b[0m\u001b[0;34m]\u001b[0m \u001b[0;32mis\u001b[0m \u001b[0mAT\u001b[0m\u001b[0;34m)\u001b[0m\u001b[0;34m:\u001b[0m\u001b[0;34m\u001b[0m\u001b[0;34m\u001b[0m\u001b[0m\n\u001b[1;32m    615\u001b[0m                 raise source.error(\"nothing to repeat\",\n\u001b[0;32m--> 616\u001b[0;31m                                    source.tell() - here + len(this))\n\u001b[0m\u001b[1;32m    617\u001b[0m             \u001b[0;32mif\u001b[0m \u001b[0mitem\u001b[0m\u001b[0;34m[\u001b[0m\u001b[0;36m0\u001b[0m\u001b[0;34m]\u001b[0m\u001b[0;34m[\u001b[0m\u001b[0;36m0\u001b[0m\u001b[0;34m]\u001b[0m \u001b[0;32min\u001b[0m \u001b[0m_REPEATCODES\u001b[0m\u001b[0;34m:\u001b[0m\u001b[0;34m\u001b[0m\u001b[0;34m\u001b[0m\u001b[0m\n\u001b[1;32m    618\u001b[0m                 raise source.error(\"multiple repeat\",\n",
      "\u001b[0;31merror\u001b[0m: nothing to repeat at position 0"
     ]
    }
   ],
   "source": [
    "for a in soup.find_all('a', href=True):\n",
    "    value = re.match(\"*.pdf\", a['href'])\n",
    "    print (\"Found the URL:\", a['href'])"
   ]
  },
  {
   "cell_type": "code",
   "execution_count": 41,
   "metadata": {},
   "outputs": [],
   "source": [
    "find_text = re.compile('.*.pdf')"
   ]
  },
  {
   "cell_type": "code",
   "execution_count": 48,
   "metadata": {},
   "outputs": [
    {
     "name": "stdout",
     "output_type": "stream",
     "text": [
      "Found the URL: Navajo Nation Codes/V0010.pdf\n",
      "Found the URL: Navajo Nation Codes/V0020.pdf\n",
      "Found the URL: Navajo Nation Codes/V0030.pdf\n",
      "Found the URL: Navajo Nation Codes/V0040.pdf\n",
      "Found the URL: Navajo Nation Codes/Title 2/CO-39-10.pdf\n",
      "Found the URL: Navajo Nation Codes/Title 2/CAP-10-11.pdf\n",
      "Found the URL: Navajo Nation Codes/Title 2/CJY-27-11.pdf\n",
      "Found the URL: Navajo Nation Codes/Title 2/CO-39-11.pdf\n",
      "Found the URL: Navajo Nation Codes/Title 2/CO-45-12.pdf\n",
      "Found the URL: Navajo Nation Codes/Title 2/CJY-30-13.pdf\n",
      "Found the URL: Navajo Nation Codes/Title 2/CO-51-13.pdf\n",
      "Found the URL: Navajo Nation Codes/Title 2/CO-52-13.pdf\n",
      "Found the URL: Navajo Nation Codes/Title 2/CJA-01-14.pdf\n",
      "Found the URL: Navajo Nation Codes/Title 2/CO-50-14.pdf\n",
      "Found the URL: Navajo Nation Codes/Title 3/CD-76-14.pdf\n",
      "Found the URL: Navajo Nation Codes/Title 5/CJY-38-13.pdf\n",
      "Found the URL: Navajo Nation Codes/Title 5/CN-56-14.pdf\n",
      "Found the URL: Navajo Nation Codes/Title 5/CD-63-14.pdf\n",
      "Found the URL: Navajo Nation Codes/Title 7/CJY-29-13.pdf\n",
      "Found the URL: Navajo Nation Codes/Title 9/CO-38-11.pdf\n",
      "Found the URL: Navajo Nation Codes/Title 9/CJA-02-12.pdf\n",
      "Found the URL: Navajo Nation Codes/Title 9/CMY-30-14.pdf\n",
      "Found the URL: Navajo Nation Codes/Title 11/CAP-12-11.pdf\n",
      "Found the URL: Navajo Nation Codes/Title 11/CAP-13-11.pdf\n",
      "Found the URL: Navajo Nation Codes/Title 11/CO-41-11.pdf\n",
      "Found the URL: Navajo Nation Codes/Title 11/CJA-01-12.pdf\n",
      "Found the URL: Navajo Nation Codes/Title 11/CJA-06-12.pdf\n",
      "Found the URL: Navajo Nation Codes/Title 11/CO-54-13.pdf\n",
      "Found the URL: Navajo Nation Codes/Title 11/CO-56-13.pdf\n",
      "Found the URL: Navajo Nation Codes/Title 11/CO-59-13.pdf\n",
      "Found the URL: Navajo Nation Codes/Title 11/CJA-02-14.pdf\n",
      "Found the URL: Navajo Nation Codes/Title 12/BFMY-15-10.pdf\n",
      "Found the URL: Navajo Nation Codes/Title 12/CO-45-10.pdf\n",
      "Found the URL: Navajo Nation Codes/Title 12/CAU-34-11.pdf\n",
      "Found the URL: Navajo Nation Codes/Title 12/CO-44-11.pdf\n",
      "Found the URL: Navajo Nation Codes/Title 12/CJY-43-13.pdf\n",
      "Found the URL: Navajo Nation Codes/Title 12/CS-48-13.pdf\n",
      "Found the URL: Navajo Nation Codes/Title 13/CO-41-11.pdf\n",
      "Found the URL: Navajo Nation Codes/Title 15/CJA-03-12.pdf\n",
      "Found the URL: Navajo Nation Codes/Title 15/CJY-35-13.pdf\n",
      "Found the URL: Navajo Nation Codes/Title 15/CJY-38-13.pdf\n",
      "Found the URL: Navajo Nation Codes/Title 15/CO-48-14.pdf\n",
      "Found the URL: Navajo Nation Codes/Title 16/CO-53-13.pdf\n",
      "Found the URL: Navajo Nation Codes/Title 17/CJA-04-12.pdf\n",
      "Found the URL: Navajo Nation Codes/Title 17/CJN-27-13.pdf\n",
      "Found the URL: Navajo Nation Codes/Title 17/CJY-29-13.pdf\n",
      "Found the URL: Navajo Nation Codes/Title 17/CJN-31-14.pdf\n",
      "Found the URL: Navajo Nation Codes/Title 17/CN-52-14.pdf\n",
      "Found the URL: Navajo Nation Codes/Title 21/CO-51-13.pdf\n",
      "Found the URL: Navajo Nation Codes/Title 24/CJY-31-10.pdf\n",
      "Found the URL: Navajo Nation Codes/Title 24/CO-40-10.pdf\n",
      "Found the URL: Navajo Nation Codes/Title 24/CO-46-12.pdf\n",
      "Found the URL: Navajo Nation Codes/Title 24/CN-54-14.pdf\n",
      "Found the URL: Navajo Nation Codes/Title 26/CN-50-10.pdf\n"
     ]
    }
   ],
   "source": [
    "for a in soup.find_all('a', href=True):\n",
    "    value = re.match(\".*.pdf\", a['href'])\n",
    "    if (value != None):\n",
    "        value.group()\n",
    "        print (\"Found the URL:\", value.group())"
   ]
  },
  {
   "cell_type": "code",
   "execution_count": 49,
   "metadata": {},
   "outputs": [],
   "source": [
    "find = re.compile(r\"^(.*?)\\..*\")"
   ]
  },
  {
   "cell_type": "code",
   "execution_count": 59,
   "metadata": {},
   "outputs": [
    {
     "data": {
      "text/plain": [
       "'http://www.navajonationcouncil.org/Code%20Page.html'"
      ]
     },
     "execution_count": 59,
     "metadata": {},
     "output_type": "execute_result"
    }
   ],
   "source": [
    "find.match(navajo_code).group()"
   ]
  },
  {
   "cell_type": "code",
   "execution_count": 55,
   "metadata": {},
   "outputs": [],
   "source": [
    "find2 = re.compile(r\"^(.*?)\\/.*\")"
   ]
  },
  {
   "cell_type": "code",
   "execution_count": 58,
   "metadata": {},
   "outputs": [
    {
     "data": {
      "text/plain": [
       "'http://www.navajonationcouncil.org/Code%20Page.html'"
      ]
     },
     "execution_count": 58,
     "metadata": {},
     "output_type": "execute_result"
    }
   ],
   "source": [
    "find2.match(navajo_code).group()"
   ]
  },
  {
   "cell_type": "code",
   "execution_count": null,
   "metadata": {},
   "outputs": [],
   "source": []
  }
 ],
 "metadata": {
  "kernelspec": {
   "display_name": "Python 3",
   "language": "python",
   "name": "python3"
  },
  "language_info": {
   "codemirror_mode": {
    "name": "ipython",
    "version": 3
   },
   "file_extension": ".py",
   "mimetype": "text/x-python",
   "name": "python",
   "nbconvert_exporter": "python",
   "pygments_lexer": "ipython3",
   "version": "3.6.8"
  }
 },
 "nbformat": 4,
 "nbformat_minor": 2
}
