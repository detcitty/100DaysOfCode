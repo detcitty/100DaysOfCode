{
 "cells": [
  {
   "cell_type": "code",
   "execution_count": 3,
   "id": "82e4a515",
   "metadata": {},
   "outputs": [
    {
     "name": "stdout",
     "output_type": "stream",
     "text": [
      "5\n"
     ]
    }
   ],
   "source": [
    "%run -i \"numpeople.py\""
   ]
  },
  {
   "cell_type": "code",
   "execution_count": 17,
   "id": "ee30e081",
   "metadata": {},
   "outputs": [
    {
     "name": "stdout",
     "output_type": "stream",
     "text": [
      "118\n",
      "u\n",
      "FOUND\n",
      "120\n",
      "121\n",
      "u\n",
      "FOUND\n",
      "98\n",
      "122\n",
      "a\n",
      "FOUND\n",
      "120\n",
      "106\n",
      "104\n",
      "116\n",
      "113\n",
      "114\n",
      "113\n",
      "120\n",
      "106\n",
      "[118, 117, 120, 121, 117, 98, 122, 97, 120, 106, 104, 116, 113, 114, 113, 120, 106]\n"
     ]
    }
   ],
   "source": [
    "%run -i \"vowelhere.py\""
   ]
  },
  {
   "cell_type": "code",
   "execution_count": 9,
   "id": "78dd6ea5",
   "metadata": {},
   "outputs": [
    {
     "data": {
      "text/plain": [
       "[2, 4, 6, 8, 10, 12, 14]"
      ]
     },
     "execution_count": 9,
     "metadata": {},
     "output_type": "execute_result"
    }
   ],
   "source": [
    "list(range(2, 16, 2))"
   ]
  },
  {
   "cell_type": "code",
   "execution_count": 10,
   "id": "2119bf19",
   "metadata": {},
   "outputs": [
    {
     "ename": "SyntaxError",
     "evalue": "'yield' outside function (<ipython-input-10-141d445a8010>, line 1)",
     "output_type": "error",
     "traceback": [
      "\u001b[1;36m  File \u001b[1;32m\"<ipython-input-10-141d445a8010>\"\u001b[1;36m, line \u001b[1;32m1\u001b[0m\n\u001b[1;33m    yield [2**x for x in range(0, 5)].pop()\u001b[0m\n\u001b[1;37m    ^\u001b[0m\n\u001b[1;31mSyntaxError\u001b[0m\u001b[1;31m:\u001b[0m 'yield' outside function\n"
     ]
    }
   ],
   "source": [
    "yield [2**x for x in range(0, 5)].pop()"
   ]
  },
  {
   "cell_type": "code",
   "execution_count": 6,
   "id": "96487543",
   "metadata": {},
   "outputs": [
    {
     "name": "stdout",
     "output_type": "stream",
     "text": [
      "0 0\n",
      "0\n",
      "0\n",
      "----\n",
      "0 1\n",
      "1\n",
      "4\n",
      "----\n",
      "0 2\n",
      "2\n",
      "8\n",
      "----\n",
      "0 3\n",
      "3\n",
      "12\n",
      "----\n",
      "0 4\n",
      "4\n",
      "15\n",
      "----\n",
      "1 0\n",
      "-1\n",
      "0\n",
      "----\n",
      "1 1\n",
      "0\n",
      "0\n",
      "----\n",
      "1 2\n",
      "1\n",
      "4\n",
      "----\n",
      "1 3\n",
      "2\n",
      "8\n",
      "----\n",
      "1 4\n",
      "3\n",
      "11\n",
      "----\n",
      "2 0\n",
      "-2\n",
      "0\n",
      "----\n",
      "2 1\n",
      "-1\n",
      "0\n",
      "----\n",
      "2 2\n",
      "0\n",
      "0\n",
      "----\n",
      "2 3\n",
      "1\n",
      "4\n",
      "----\n",
      "2 4\n",
      "2\n",
      "7\n",
      "----\n",
      "3 0\n",
      "-3\n",
      "0\n",
      "----\n",
      "3 1\n",
      "-2\n",
      "0\n",
      "----\n",
      "3 2\n",
      "-1\n",
      "0\n",
      "----\n",
      "3 3\n",
      "0\n",
      "0\n",
      "----\n",
      "3 4\n",
      "1\n",
      "3\n",
      "----\n",
      "4 0\n",
      "-4\n",
      "0\n",
      "----\n",
      "4 1\n",
      "-3\n",
      "0\n",
      "----\n",
      "4 2\n",
      "-2\n",
      "0\n",
      "----\n",
      "4 3\n",
      "-1\n",
      "0\n",
      "----\n",
      "4 4\n",
      "0\n",
      "0\n",
      "----\n"
     ]
    }
   ],
   "source": [
    "test1 = [4,4,4,3,3]\n",
    "start = 0\n",
    "total = 5\n",
    "for i in range(start, total):\n",
    "    for j in range(start, total):\n",
    "        print(i, j)\n",
    "        pairs = (i, j)\n",
    "        print(pairs[1] - pairs[0])\n",
    "        print(sum(test1[i:j]))\n",
    "        print(\"----\")"
   ]
  },
  {
   "cell_type": "code",
   "execution_count": 2,
   "id": "f0a90538",
   "metadata": {},
   "outputs": [
    {
     "data": {
      "text/plain": [
       "range(3, 67)"
      ]
     },
     "execution_count": 2,
     "metadata": {},
     "output_type": "execute_result"
    }
   ],
   "source": [
    "range(3, 67)"
   ]
  },
  {
   "cell_type": "code",
   "execution_count": 3,
   "id": "39d21552",
   "metadata": {},
   "outputs": [
    {
     "data": {
      "text/plain": [
       "range"
      ]
     },
     "execution_count": 3,
     "metadata": {},
     "output_type": "execute_result"
    }
   ],
   "source": [
    "type(range(1,2))"
   ]
  },
  {
   "cell_type": "code",
   "execution_count": 7,
   "id": "aef4b41b",
   "metadata": {},
   "outputs": [],
   "source": [
    "def fib_gen(n):\n",
    "    if len(n) < 0  or n[0] == 1:\n",
    "        yield 1\n",
    "    else:\n",
    "        yield fib_gen(n-1) + fib_gen(n-2)\n"
   ]
  },
  {
   "cell_type": "code",
   "execution_count": 8,
   "id": "0ff50794",
   "metadata": {},
   "outputs": [
    {
     "ename": "TypeError",
     "evalue": "unsupported operand type(s) for -: 'list' and 'int'",
     "output_type": "error",
     "traceback": [
      "\u001b[1;31m---------------------------------------------------------------------------\u001b[0m",
      "\u001b[1;31mTypeError\u001b[0m                                 Traceback (most recent call last)",
      "\u001b[1;32m<ipython-input-8-b2a7af4b2769>\u001b[0m in \u001b[0;36m<module>\u001b[1;34m\u001b[0m\n\u001b[1;32m----> 1\u001b[1;33m \u001b[0mlist\u001b[0m\u001b[1;33m(\u001b[0m\u001b[0mfib_gen\u001b[0m\u001b[1;33m(\u001b[0m\u001b[1;33m[\u001b[0m\u001b[1;36m6\u001b[0m\u001b[1;33m]\u001b[0m\u001b[1;33m)\u001b[0m\u001b[1;33m)\u001b[0m\u001b[1;33m\u001b[0m\u001b[1;33m\u001b[0m\u001b[0m\n\u001b[0m",
      "\u001b[1;32m<ipython-input-7-aa0d7b5ccf06>\u001b[0m in \u001b[0;36mfib_gen\u001b[1;34m(n)\u001b[0m\n\u001b[0;32m      3\u001b[0m         \u001b[1;32myield\u001b[0m \u001b[1;36m1\u001b[0m\u001b[1;33m\u001b[0m\u001b[1;33m\u001b[0m\u001b[0m\n\u001b[0;32m      4\u001b[0m     \u001b[1;32melse\u001b[0m\u001b[1;33m:\u001b[0m\u001b[1;33m\u001b[0m\u001b[1;33m\u001b[0m\u001b[0m\n\u001b[1;32m----> 5\u001b[1;33m         \u001b[1;32myield\u001b[0m \u001b[0mfib_gen\u001b[0m\u001b[1;33m(\u001b[0m\u001b[0mn\u001b[0m\u001b[1;33m-\u001b[0m\u001b[1;36m1\u001b[0m\u001b[1;33m)\u001b[0m \u001b[1;33m+\u001b[0m \u001b[0mfib_gen\u001b[0m\u001b[1;33m(\u001b[0m\u001b[0mn\u001b[0m\u001b[1;33m-\u001b[0m\u001b[1;36m2\u001b[0m\u001b[1;33m)\u001b[0m\u001b[1;33m\u001b[0m\u001b[1;33m\u001b[0m\u001b[0m\n\u001b[0m",
      "\u001b[1;31mTypeError\u001b[0m: unsupported operand type(s) for -: 'list' and 'int'"
     ]
    }
   ],
   "source": [
    "list(fib_gen([6]))"
   ]
  },
  {
   "cell_type": "code",
   "execution_count": 1,
   "id": "ae7c5d5a",
   "metadata": {},
   "outputs": [],
   "source": [
    "a = [[1, 2], [1, 3], [1, 4]]"
   ]
  },
  {
   "cell_type": "code",
   "execution_count": 8,
   "id": "e962af37",
   "metadata": {},
   "outputs": [
    {
     "ename": "TypeError",
     "evalue": "list indices must be integers or slices, not tuple",
     "output_type": "error",
     "traceback": [
      "\u001b[1;31m---------------------------------------------------------------------------\u001b[0m",
      "\u001b[1;31mTypeError\u001b[0m                                 Traceback (most recent call last)",
      "\u001b[1;32m<ipython-input-8-2d3574b6edaa>\u001b[0m in \u001b[0;36m<module>\u001b[1;34m\u001b[0m\n\u001b[1;32m----> 1\u001b[1;33m \u001b[0ma\u001b[0m\u001b[1;33m[\u001b[0m\u001b[1;33m:\u001b[0m\u001b[1;36m1\u001b[0m\u001b[1;33m,\u001b[0m\u001b[1;33m]\u001b[0m\u001b[1;33m\u001b[0m\u001b[1;33m\u001b[0m\u001b[0m\n\u001b[0m",
      "\u001b[1;31mTypeError\u001b[0m: list indices must be integers or slices, not tuple"
     ]
    }
   ],
   "source": [
    "a[:1,]"
   ]
  },
  {
   "cell_type": "code",
   "execution_count": 5,
   "id": "f09d8730",
   "metadata": {},
   "outputs": [
    {
     "data": {
      "text/plain": [
       "[[0, 0],\n",
       " [0, 1],\n",
       " [0, 2],\n",
       " [0, 3],\n",
       " [0, 4],\n",
       " [1, 0],\n",
       " [1, 1],\n",
       " [1, 2],\n",
       " [1, 3],\n",
       " [1, 4],\n",
       " [2, 0],\n",
       " [2, 1],\n",
       " [2, 2],\n",
       " [2, 3],\n",
       " [2, 4],\n",
       " [3, 0],\n",
       " [3, 1],\n",
       " [3, 2],\n",
       " [3, 3],\n",
       " [3, 4],\n",
       " [4, 0],\n",
       " [4, 1],\n",
       " [4, 2],\n",
       " [4, 3],\n",
       " [4, 4]]"
      ]
     },
     "execution_count": 5,
     "metadata": {},
     "output_type": "execute_result"
    }
   ],
   "source": [
    "coodinates = []\n",
    "for x in range(5):\n",
    "    for y in range(5):\n",
    "        coodinates.append([x,y])\n",
    "coodinates"
   ]
  },
  {
   "cell_type": "code",
   "execution_count": null,
   "id": "3e778353",
   "metadata": {},
   "outputs": [],
   "source": []
  }
 ],
 "metadata": {
  "kernelspec": {
   "display_name": "Python 3",
   "language": "python",
   "name": "python3"
  },
  "language_info": {
   "codemirror_mode": {
    "name": "ipython",
    "version": 3
   },
   "file_extension": ".py",
   "mimetype": "text/x-python",
   "name": "python",
   "nbconvert_exporter": "python",
   "pygments_lexer": "ipython3",
   "version": "3.8.8"
  }
 },
 "nbformat": 4,
 "nbformat_minor": 5
}
