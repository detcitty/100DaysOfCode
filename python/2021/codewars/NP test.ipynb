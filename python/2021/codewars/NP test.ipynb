{
 "cells": [
  {
   "cell_type": "code",
   "execution_count": 1,
   "id": "6a53da44",
   "metadata": {},
   "outputs": [],
   "source": [
    "import numpy as np"
   ]
  },
  {
   "cell_type": "code",
   "execution_count": 3,
   "id": "a54af833",
   "metadata": {},
   "outputs": [],
   "source": [
    "test_array = [10, 41, 8, 16, 20, 36, 9, 13, 20]"
   ]
  },
  {
   "cell_type": "code",
   "execution_count": 5,
   "id": "0b56cfda",
   "metadata": {},
   "outputs": [],
   "source": [
    "npa = np.array(test_array)"
   ]
  },
  {
   "cell_type": "code",
   "execution_count": 10,
   "id": "5d0d4eb5",
   "metadata": {},
   "outputs": [
    {
     "data": {
      "text/plain": [
       "array([2, 6, 0, 7, 3, 4, 8, 5, 1], dtype=int64)"
      ]
     },
     "execution_count": 10,
     "metadata": {},
     "output_type": "execute_result"
    }
   ],
   "source": [
    "np.argsort(npa)"
   ]
  },
  {
   "cell_type": "code",
   "execution_count": 19,
   "id": "fc2029e7",
   "metadata": {},
   "outputs": [
    {
     "data": {
      "text/plain": [
       "array([20, 36, 41])"
      ]
     },
     "execution_count": 19,
     "metadata": {},
     "output_type": "execute_result"
    }
   ],
   "source": [
    "npa[np.argsort(npa)][-3:]"
   ]
  },
  {
   "cell_type": "code",
   "execution_count": 20,
   "id": "b8869e88",
   "metadata": {},
   "outputs": [
    {
     "data": {
      "text/plain": [
       "array([ 8,  9, 10])"
      ]
     },
     "execution_count": 20,
     "metadata": {},
     "output_type": "execute_result"
    }
   ],
   "source": [
    "npa[np.argsort(npa)][:3]"
   ]
  },
  {
   "cell_type": "code",
   "execution_count": null,
   "id": "e3a9fa74",
   "metadata": {},
   "outputs": [],
   "source": []
  }
 ],
 "metadata": {
  "kernelspec": {
   "display_name": "Python 3",
   "language": "python",
   "name": "python3"
  },
  "language_info": {
   "codemirror_mode": {
    "name": "ipython",
    "version": 3
   },
   "file_extension": ".py",
   "mimetype": "text/x-python",
   "name": "python",
   "nbconvert_exporter": "python",
   "pygments_lexer": "ipython3",
   "version": "3.8.8"
  }
 },
 "nbformat": 4,
 "nbformat_minor": 5
}
