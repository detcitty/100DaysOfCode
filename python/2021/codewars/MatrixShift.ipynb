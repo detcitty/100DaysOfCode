{
 "cells": [
  {
   "cell_type": "code",
   "execution_count": 69,
   "metadata": {},
   "outputs": [],
   "source": [
    "# https://www.codewars.com/kata/525a566985a9a47bc8000670/train/python"
   ]
  },
  {
   "cell_type": "code",
   "execution_count": 70,
   "metadata": {},
   "outputs": [],
   "source": [
    "# https://www.codewars.com/kata/525a566985a9a47bc8000670/train/python\n",
    "from statistics import median\n",
    "import math\n",
    "\n",
    "def rotate(matrix, direction): \n",
    "    # your code here\n",
    "    coorindates = []\n",
    "\n",
    "    size = len(matrix)\n",
    "    halfway = median(range(len(matrix)))\n",
    "    ## case for even-even rows\n",
    "    for x in range(len(matrix)):\n",
    "        row_ = []\n",
    "        for y in range(len(matrix)):\n",
    "            x_coord = float(x-halfway)\n",
    "            y_coord = float(y-halfway)\n",
    "            sign_x = math.copysign(1, y_coord)\n",
    "            sign_y = math.copysign(1, y_coord)\n",
    "\n",
    "            if (x_coord.is_integer() and y_coord.is_integer()):\n",
    "                row_.append([x_coord, y_coord])\n",
    "                #print('PART!')\n",
    "            else:\n",
    "                x_ciel_abs = math.ceil(abs(x_coord))\n",
    "                y_ciel_abs = math.ceil(abs(y_coord))\n",
    "                row_.append([sign_x * (x_ciel_abs), sign_y * (y_ciel_abs)])\n",
    "        coorindates.append(row_)\n",
    "    print(coorindates)\n"
   ]
  },
  {
   "cell_type": "code",
   "execution_count": 71,
   "metadata": {},
   "outputs": [],
   "source": [
    "matrix_odd = [[1, 2, 3],\n",
    "          [4, 5, 6],\n",
    "          [7, 8, 9]]"
   ]
  },
  {
   "cell_type": "code",
   "execution_count": 72,
   "metadata": {},
   "outputs": [],
   "source": [
    "matrix_even = [[1, 2, 3, 4],\n",
    "          [ 5, 6, 7, 8],\n",
    "          [9, 10, 11, 12],\n",
    "          [13, 14, 15,16]]"
   ]
  },
  {
   "cell_type": "code",
   "execution_count": 73,
   "metadata": {},
   "outputs": [
    {
     "name": "stdout",
     "output_type": "stream",
     "text": [
      "[[[-2.0, -2.0], [-2.0, -1.0], [2.0, 1.0], [2.0, 2.0]], [[-1.0, -2.0], [-1.0, -1.0], [1.0, 1.0], [1.0, 2.0]], [[-1.0, -2.0], [-1.0, -1.0], [1.0, 1.0], [1.0, 2.0]], [[-2.0, -2.0], [-2.0, -1.0], [2.0, 1.0], [2.0, 2.0]]]\n"
     ]
    }
   ],
   "source": [
    "rotate(matrix_even, \"TEST\")"
   ]
  },
  {
   "cell_type": "code",
   "execution_count": 74,
   "metadata": {},
   "outputs": [
    {
     "name": "stdout",
     "output_type": "stream",
     "text": [
      "[[[-1.0, -1.0], [-1.0, 0.0], [-1.0, 1.0]], [[0.0, -1.0], [0.0, 0.0], [0.0, 1.0]], [[1.0, -1.0], [1.0, 0.0], [1.0, 1.0]]]\n"
     ]
    }
   ],
   "source": [
    "rotate(matrix_odd, \"TEST\")"
   ]
  },
  {
   "cell_type": "code",
   "execution_count": null,
   "metadata": {},
   "outputs": [],
   "source": []
  }
 ],
 "metadata": {
  "interpreter": {
   "hash": "50ed25add8b27d8dab441fd9d1f04ebce829dac9e8ee061045880c897dcd7af6"
  },
  "kernelspec": {
   "display_name": "Python 3.8.8 64-bit ('base': conda)",
   "language": "python",
   "name": "python3"
  },
  "language_info": {
   "codemirror_mode": {
    "name": "ipython",
    "version": 3
   },
   "file_extension": ".py",
   "mimetype": "text/x-python",
   "name": "python",
   "nbconvert_exporter": "python",
   "pygments_lexer": "ipython3",
   "version": "3.8.8"
  },
  "orig_nbformat": 4
 },
 "nbformat": 4,
 "nbformat_minor": 2
}
